{
  "nbformat": 4,
  "nbformat_minor": 0,
  "metadata": {
    "colab": {
      "name": "first  Image Classification with simple Deep Neural Network.ipynb",
      "provenance": [],
      "authorship_tag": "ABX9TyMhH5bbtyi8AmiTjijhPk5a",
      "include_colab_link": true
    },
    "kernelspec": {
      "name": "python3",
      "display_name": "Python 3"
    },
    "language_info": {
      "name": "python"
    }
  },
  "cells": [
    {
      "cell_type": "markdown",
      "metadata": {
        "id": "view-in-github",
        "colab_type": "text"
      },
      "source": [
        "<a href=\"https://colab.research.google.com/github/AliARajabi/deep-learning/blob/first-Image-Classification-with-simple-Deep-Neural-Network/first%20Image%20Classification%20with%20simple%20Deep%20Neural%20Network/first_Image_Classification_with_simple_Deep_Neural_Network.ipynb\" target=\"_parent\"><img src=\"https://colab.research.google.com/assets/colab-badge.svg\" alt=\"Open In Colab\"/></a>"
      ]
    },
    {
      "cell_type": "code",
      "metadata": {
        "id": "4jD_u1UaIhEC"
      },
      "source": [
        "!git clone https://github.com/AliARajabi/deep-learning.git"
      ],
      "execution_count": 2,
      "outputs": []
    },
    {
      "cell_type": "code",
      "metadata": {
        "id": "dJ5C9c9GKwPW"
      },
      "source": [
        "import numpy as np\n",
        "import pandas as pd\n",
        "import matplotlib.pyplot as plt\n"
      ],
      "execution_count": 9,
      "outputs": []
    },
    {
      "cell_type": "code",
      "metadata": {
        "id": "lMRal4rkQ8r_"
      },
      "source": [
        "def load_data():\n",
        "  train_data=h5py.File('/content/deep-learning/first  Image Classification with simple Deep Neural Network/train_catvnoncat.h5')\n",
        "  x_train=np.array(train_data['train_set_x'])\n",
        "  y_train=np.array(train_data['train_set_y'])\n",
        "\n",
        "  test_data=h5py.File('/content/deep-learning/first  Image Classification with simple Deep Neural Network/test_catvnoncat.h5', 'r')\n",
        "  x_test=np.array(test_data['test_set_x'])\n",
        "  y_test=np.array(test_data['test_set_y'])\n",
        "  print(train_data['list_classes'][:])\n",
        "  return x_train,y_train,x_test,y_test,np.array(train_data['list_classes'])\n"
      ],
      "execution_count": 43,
      "outputs": []
    },
    {
      "cell_type": "markdown",
      "metadata": {
        "id": "t53M13uqXSQD"
      },
      "source": [
        "first lests read data"
      ]
    },
    {
      "cell_type": "code",
      "metadata": {
        "id": "RLFFHr8QSh4m",
        "outputId": "95f88ac5-63fa-4931-886b-3d6ee9b3156b",
        "colab": {
          "base_uri": "https://localhost:8080/"
        }
      },
      "source": [
        "x_train, y_train, x_test, y_test, classes = load_data()"
      ],
      "execution_count": 48,
      "outputs": [
        {
          "output_type": "stream",
          "text": [
            "[b'non-cat' b'cat']\n"
          ],
          "name": "stdout"
        },
        {
          "output_type": "stream",
          "text": [
            "/usr/local/lib/python3.7/dist-packages/ipykernel_launcher.py:2: H5pyDeprecationWarning: The default file mode will change to 'r' (read-only) in h5py 3.0. To suppress this warning, pass the mode you need to h5py.File(), or set the global default h5.get_config().default_file_mode, or set the environment variable H5PY_DEFAULT_READONLY=1. Available modes are: 'r', 'r+', 'w', 'w-'/'x', 'a'. See the docs for details.\n",
            "  \n"
          ],
          "name": "stderr"
        }
      ]
    },
    {
      "cell_type": "markdown",
      "metadata": {
        "id": "QNBABlPVXTqL"
      },
      "source": [
        "now the picture must be flattened"
      ]
    },
    {
      "cell_type": "code",
      "metadata": {
        "id": "kmaRxgBDTj1V"
      },
      "source": [
        "X_train=x_train.reshape(-1,x_train.shape[0])\n",
        "X_test=x_test.reshape(-1,x_test.shape[0])"
      ],
      "execution_count": 72,
      "outputs": []
    },
    {
      "cell_type": "markdown",
      "metadata": {
        "id": "w5BTYymjYDYr"
      },
      "source": [
        "the next step is Standardizing the x"
      ]
    },
    {
      "cell_type": "code",
      "metadata": {
        "id": "SbO6r-lKYLbD"
      },
      "source": [
        "SX_train=X_train/255\n",
        "SX_test=X_test/255"
      ],
      "execution_count": 74,
      "outputs": []
    },
    {
      "cell_type": "markdown",
      "metadata": {
        "id": "VcDZFSkuYl5a"
      },
      "source": [
        "lets first start with one hidden layer architecture ( relu and one sigmoid for output layer)\n",
        "\n",
        "so the input layer has size 12288 \n",
        "\n",
        "the hidden layer has size 7\n",
        "\n",
        "and output layer has size 1"
      ]
    },
    {
      "cell_type": "markdown",
      "metadata": {
        "id": "F6msTwSWY46h"
      },
      "source": [
        "at first the parameters must be initialize"
      ]
    },
    {
      "cell_type": "code",
      "metadata": {
        "id": "NMC0O0VPY1_2"
      },
      "source": [
        "np.random.seed(1)\n",
        "L=7\n",
        "parameters={}\n",
        "parameters['W1']=np.random.randn(L,SX_train.shape[0])*0.01\n",
        "parameters['b1']=np.zeros((L,1))\n",
        "\n",
        "parameters['W2']=np.random.randn(1,L)*0.01\n",
        "parameters['b2']=np.zeros((1,1))"
      ],
      "execution_count": 90,
      "outputs": []
    },
    {
      "cell_type": "markdown",
      "metadata": {
        "id": "_t7N5MIQcVjr"
      },
      "source": [
        "now the gradient descent implementation"
      ]
    },
    {
      "cell_type": "markdown",
      "metadata": {
        "id": "kjAac8dYcoRJ"
      },
      "source": [
        "at first the hyper parameter tuning"
      ]
    },
    {
      "cell_type": "code",
      "metadata": {
        "id": "EZ8UXsvaceQM",
        "outputId": "4f9506fd-7180-4400-ed28-b7b0a8a5ac3e",
        "colab": {
          "base_uri": "https://localhost:8080/"
        }
      },
      "source": [
        "epoch=2\n",
        "learning_rate = 0.0075\n",
        "W1=parameters['W1']\n",
        "b1=parameters['b1']\n",
        "W2=parameters['W2']\n",
        "b2=parameters['b2']\n",
        "m = y_train.shape[0]\n",
        "costs = [] \n",
        "\n",
        "for i in range(epoch):\n",
        "  # forward propagation\n",
        "  Z1=W1.dot(SX_train) + b1\n",
        "  print(Z1)\n",
        "  A1=np.maximum(0,Z1)\n",
        "  Z2=W2.dot(A1) + b2\n",
        "  A2=1/(1+np.exp(-Z2))\n",
        "\n",
        "  # compute cost\n",
        "  cost = (1./m) * (-np.dot(y_train,np.log(A2).T) - np.dot(1-y_train, np.log(1-A2).T))\n",
        "  cost = np.squeeze(cost) \n",
        "\n",
        "  # back propagation\n",
        "  dA2 = - (np.divide(y_train, A2) - np.divide(1 - y_train, 1 - A2))\n",
        "  dZ2 = dA2 * A2 * (1-A2)\n",
        "  dW2 = 1./m * np.dot(dZ2,A1.T)\n",
        "  db2 = 1./m * np.sum(dZ2, axis = 1, keepdims = True)\n",
        "  dA1 = np.dot(W2.T,dZ2)\n",
        "  dZ1 = np.array(dA1, copy=True)\n",
        "  dZ1[Z1 <= 0] = 0\n",
        "  dW1 = 1./m * np.dot(dZ1,SX_train.T)\n",
        "  db1 = 1./m * np.sum(dZ1, axis = 1, keepdims = True)\n",
        "\n",
        "  # update parameters\n",
        "  W1 = W1 - learning_rate * dW1\n",
        "  b1 = b1 - learning_rate * db1\n",
        "  W2 = W2 - learning_rate * dW2\n",
        "  b2 = b2 - learning_rate * db2\n",
        "\n",
        "  if i % 100 == 0:\n",
        "    #print(\"Cost after iteration {}: {}\".format(i, np.squeeze(cost)))\n",
        "    costs.append(cost)\n",
        "parameters['W1']=W1\n",
        "parameters['b1']=b1\n",
        "parameters['W2']=W2\n",
        "parameters['b2']=b2\n"
      ],
      "execution_count": 105,
      "outputs": [
        {
          "output_type": "stream",
          "text": [
            "[[ 5.90368108  5.99415265  2.04317782 ...  4.83732869  9.81012267\n",
            "   7.67934457]\n",
            " [-0.30172325 -0.42315302 -0.33334261 ... -0.5677434  -0.67494229\n",
            "  -0.55179588]\n",
            " [ 0.53177333  1.6046663   0.60699693 ...  2.67892091  3.50864516\n",
            "   3.03385018]\n",
            " ...\n",
            " [ 9.9752029   9.48249641  8.64092108 ...  7.46369559  8.00504979\n",
            "   8.50611879]\n",
            " [-0.30380668 -0.18280006 -0.49249175 ... -0.50014932 -0.39873197\n",
            "  -0.44786511]\n",
            " [ 0.21072943  2.37674747  0.64790029 ...  2.19264771  2.60102782\n",
            "   3.59187488]]\n",
            "[[ 5.96571564  6.05653014  2.10582038 ...  4.89947101  9.8718411\n",
            "   7.74140344]\n",
            " [-0.30218899 -0.42363659 -0.3338147  ... -0.56821762 -0.67541168\n",
            "  -0.55228181]\n",
            " [ 0.57679076  1.64991193  0.65243312 ...  2.72400982  3.55346506\n",
            "   3.07885933]\n",
            " ...\n",
            " [ 9.94514955  9.45223206  8.61052344 ...  7.43353131  7.97512282\n",
            "   8.47600726]\n",
            " [-0.30380668 -0.18280006 -0.49249175 ... -0.50014932 -0.39873197\n",
            "  -0.44786511]\n",
            " [ 0.26884235  2.43462604  0.7060421  ...  2.24977073  2.65804048\n",
            "   3.6486852 ]]\n"
          ],
          "name": "stdout"
        }
      ]
    },
    {
      "cell_type": "code",
      "metadata": {
        "id": "7KWyGs_2secf",
        "outputId": "0eeb961a-be68-4ebc-92da-3a5bd4a67484",
        "colab": {
          "base_uri": "https://localhost:8080/",
          "height": 279
        }
      },
      "source": [
        "    plt.plot(np.squeeze(costs))\n",
        "    plt.ylabel('cost')\n",
        "    plt.xlabel('iterations (per hundreds)')\n",
        "    plt.show()"
      ],
      "execution_count": 103,
      "outputs": [
        {
          "output_type": "display_data",
          "data": {
            "image/png": "[encoded data removed]",
            "text/plain": [
              "<Figure size 360x288 with 1 Axes>"
            ]
          },
          "metadata": {
            "tags": [],
            "needs_background": "light"
          }
        }
      ]
    }
  ]
}