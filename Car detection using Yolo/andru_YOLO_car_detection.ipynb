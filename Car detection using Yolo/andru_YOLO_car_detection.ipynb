{
  "nbformat": 4,
  "nbformat_minor": 0,
  "metadata": {
    "colab": {
      "name": "andru YOLO car detection.ipynb",
      "provenance": []
    },
    "kernelspec": {
      "name": "python3",
      "display_name": "Python 3"
    },
    "language_info": {
      "name": "python"
    }
  },
  "cells": [
    {
      "cell_type": "code",
      "metadata": {
        "colab": {
          "base_uri": "https://localhost:8080/"
        },
        "id": "H2MTLVGCG9iP",
        "outputId": "7612094f-6e0a-4313-a9c8-7df4e1243fa5"
      },
      "source": [
        "!pip install tensorflow==1.15"
      ],
      "execution_count": 1,
      "outputs": [
        {
          "output_type": "stream",
          "text": [
            "Collecting tensorflow==1.15\n",
            "\u001b[?25l  Downloading https://files.pythonhosted.org/packages/92/2b/e3af15221da9ff323521565fa3324b0d7c7c5b1d7a8ca66984c8d59cb0ce/tensorflow-1.15.0-cp37-cp37m-manylinux2010_x86_64.whl (412.3MB)\n",
            "\u001b[K     |████████████████████████████████| 412.3MB 35kB/s \n",
            "\u001b[?25hRequirement already satisfied: termcolor>=1.1.0 in /usr/local/lib/python3.7/dist-packages (from tensorflow==1.15) (1.1.0)\n",
            "Collecting gast==0.2.2\n",
            "  Downloading https://files.pythonhosted.org/packages/4e/35/11749bf99b2d4e3cceb4d55ca22590b0d7c2c62b9de38ac4a4a7f4687421/gast-0.2.2.tar.gz\n",
            "Requirement already satisfied: grpcio>=1.8.6 in /usr/local/lib/python3.7/dist-packages (from tensorflow==1.15) (1.32.0)\n",
            "Requirement already satisfied: keras-preprocessing>=1.0.5 in /usr/local/lib/python3.7/dist-packages (from tensorflow==1.15) (1.1.2)\n",
            "Requirement already satisfied: google-pasta>=0.1.6 in /usr/local/lib/python3.7/dist-packages (from tensorflow==1.15) (0.2.0)\n",
            "Requirement already satisfied: numpy<2.0,>=1.16.0 in /usr/local/lib/python3.7/dist-packages (from tensorflow==1.15) (1.19.5)\n",
            "Requirement already satisfied: six>=1.10.0 in /usr/local/lib/python3.7/dist-packages (from tensorflow==1.15) (1.15.0)\n",
            "Requirement already satisfied: wheel>=0.26 in /usr/local/lib/python3.7/dist-packages (from tensorflow==1.15) (0.36.2)\n",
            "Collecting tensorboard<1.16.0,>=1.15.0\n",
            "\u001b[?25l  Downloading https://files.pythonhosted.org/packages/1e/e9/d3d747a97f7188f48aa5eda486907f3b345cd409f0a0850468ba867db246/tensorboard-1.15.0-py3-none-any.whl (3.8MB)\n",
            "\u001b[K     |████████████████████████████████| 3.8MB 45.5MB/s \n",
            "\u001b[?25hCollecting tensorflow-estimator==1.15.1\n",
            "\u001b[?25l  Downloading https://files.pythonhosted.org/packages/de/62/2ee9cd74c9fa2fa450877847ba560b260f5d0fb70ee0595203082dafcc9d/tensorflow_estimator-1.15.1-py2.py3-none-any.whl (503kB)\n",
            "\u001b[K     |████████████████████████████████| 512kB 6.6MB/s \n",
            "\u001b[?25hRequirement already satisfied: opt-einsum>=2.3.2 in /usr/local/lib/python3.7/dist-packages (from tensorflow==1.15) (3.3.0)\n",
            "Requirement already satisfied: astor>=0.6.0 in /usr/local/lib/python3.7/dist-packages (from tensorflow==1.15) (0.8.1)\n",
            "Requirement already satisfied: wrapt>=1.11.1 in /usr/local/lib/python3.7/dist-packages (from tensorflow==1.15) (1.12.1)\n",
            "Collecting keras-applications>=1.0.8\n",
            "\u001b[?25l  Downloading https://files.pythonhosted.org/packages/71/e3/19762fdfc62877ae9102edf6342d71b28fbfd9dea3d2f96a882ce099b03f/Keras_Applications-1.0.8-py3-none-any.whl (50kB)\n",
            "\u001b[K     |████████████████████████████████| 51kB 5.9MB/s \n",
            "\u001b[?25hRequirement already satisfied: protobuf>=3.6.1 in /usr/local/lib/python3.7/dist-packages (from tensorflow==1.15) (3.12.4)\n",
            "Requirement already satisfied: absl-py>=0.7.0 in /usr/local/lib/python3.7/dist-packages (from tensorflow==1.15) (0.12.0)\n",
            "Requirement already satisfied: werkzeug>=0.11.15 in /usr/local/lib/python3.7/dist-packages (from tensorboard<1.16.0,>=1.15.0->tensorflow==1.15) (1.0.1)\n",
            "Requirement already satisfied: setuptools>=41.0.0 in /usr/local/lib/python3.7/dist-packages (from tensorboard<1.16.0,>=1.15.0->tensorflow==1.15) (54.2.0)\n",
            "Requirement already satisfied: markdown>=2.6.8 in /usr/local/lib/python3.7/dist-packages (from tensorboard<1.16.0,>=1.15.0->tensorflow==1.15) (3.3.4)\n",
            "Requirement already satisfied: h5py in /usr/local/lib/python3.7/dist-packages (from keras-applications>=1.0.8->tensorflow==1.15) (2.10.0)\n",
            "Requirement already satisfied: importlib-metadata; python_version < \"3.8\" in /usr/local/lib/python3.7/dist-packages (from markdown>=2.6.8->tensorboard<1.16.0,>=1.15.0->tensorflow==1.15) (3.8.1)\n",
            "Requirement already satisfied: typing-extensions>=3.6.4; python_version < \"3.8\" in /usr/local/lib/python3.7/dist-packages (from importlib-metadata; python_version < \"3.8\"->markdown>=2.6.8->tensorboard<1.16.0,>=1.15.0->tensorflow==1.15) (3.7.4.3)\n",
            "Requirement already satisfied: zipp>=0.5 in /usr/local/lib/python3.7/dist-packages (from importlib-metadata; python_version < \"3.8\"->markdown>=2.6.8->tensorboard<1.16.0,>=1.15.0->tensorflow==1.15) (3.4.1)\n",
            "Building wheels for collected packages: gast\n",
            "  Building wheel for gast (setup.py) ... \u001b[?25l\u001b[?25hdone\n",
            "  Created wheel for gast: filename=gast-0.2.2-cp37-none-any.whl size=7540 sha256=7e541d72130cc2e05ba9d19dd1510c877d250b63a997d7dafdb4ed384ad2c42d\n",
            "  Stored in directory: /root/.cache/pip/wheels/5c/2e/7e/a1d4d4fcebe6c381f378ce7743a3ced3699feb89bcfbdadadd\n",
            "Successfully built gast\n",
            "\u001b[31mERROR: tensorflow-probability 0.12.1 has requirement gast>=0.3.2, but you'll have gast 0.2.2 which is incompatible.\u001b[0m\n",
            "Installing collected packages: gast, tensorboard, tensorflow-estimator, keras-applications, tensorflow\n",
            "  Found existing installation: gast 0.3.3\n",
            "    Uninstalling gast-0.3.3:\n",
            "      Successfully uninstalled gast-0.3.3\n",
            "  Found existing installation: tensorboard 2.4.1\n",
            "    Uninstalling tensorboard-2.4.1:\n",
            "      Successfully uninstalled tensorboard-2.4.1\n",
            "  Found existing installation: tensorflow-estimator 2.4.0\n",
            "    Uninstalling tensorflow-estimator-2.4.0:\n",
            "      Successfully uninstalled tensorflow-estimator-2.4.0\n",
            "  Found existing installation: tensorflow 2.4.1\n",
            "    Uninstalling tensorflow-2.4.1:\n",
            "      Successfully uninstalled tensorflow-2.4.1\n",
            "Successfully installed gast-0.2.2 keras-applications-1.0.8 tensorboard-1.15.0 tensorflow-1.15.0 tensorflow-estimator-1.15.1\n"
          ],
          "name": "stdout"
        }
      ]
    },
    {
      "cell_type": "code",
      "metadata": {
        "colab": {
          "base_uri": "https://localhost:8080/"
        },
        "id": "Z3NKjoO4JIjo",
        "outputId": "ca183259-b242-4477-c82c-3341b82068f1"
      },
      "source": [
        "!pip install tensorflow_gpu==1.15"
      ],
      "execution_count": 4,
      "outputs": [
        {
          "output_type": "stream",
          "text": [
            "\u001b[31mERROR: Could not find a version that satisfies the requirement tensorflow_gpu==1.4 (from versions: 1.13.1, 1.13.2, 1.14.0, 1.15.0rc0, 1.15.0rc1, 1.15.0rc2, 1.15.0rc3, 1.15.0, 1.15.2, 1.15.3, 1.15.4, 1.15.5, 2.0.0a0, 2.0.0b0, 2.0.0b1, 2.0.0rc0, 2.0.0rc1, 2.0.0rc2, 2.0.0, 2.0.1, 2.0.2, 2.0.3, 2.0.4, 2.1.0rc0, 2.1.0rc1, 2.1.0rc2, 2.1.0, 2.1.1, 2.1.2, 2.1.3, 2.2.0rc0, 2.2.0rc1, 2.2.0rc2, 2.2.0rc3, 2.2.0rc4, 2.2.0, 2.2.1, 2.2.2, 2.3.0rc0, 2.3.0rc1, 2.3.0rc2, 2.3.0, 2.3.1, 2.3.2, 2.4.0rc0, 2.4.0rc1, 2.4.0rc2, 2.4.0rc3, 2.4.0rc4, 2.4.0, 2.4.1)\u001b[0m\n",
            "\u001b[31mERROR: No matching distribution found for tensorflow_gpu==1.4\u001b[0m\n"
          ],
          "name": "stdout"
        }
      ]
    },
    {
      "cell_type": "code",
      "metadata": {
        "colab": {
          "base_uri": "https://localhost:8080/"
        },
        "id": "Mix6nhA1KoR5",
        "outputId": "7919c5ac-95d2-4448-9688-e74e49e6d66f"
      },
      "source": [
        "!python -m pip install –upgrade pip\n",
        "!pip install keras==2.1.5"
      ],
      "execution_count": 5,
      "outputs": [
        {
          "output_type": "stream",
          "text": [
            "\u001b[31mERROR: Invalid requirement: '–upgrade'\u001b[0m\n",
            "Collecting keras==2.1.5\n",
            "\u001b[?25l  Downloading https://files.pythonhosted.org/packages/ba/65/e4aff762b8696ec0626a6654b1e73b396fcc8b7cc6b98d78a1bc53b85b48/Keras-2.1.5-py2.py3-none-any.whl (334kB)\n",
            "\u001b[K     |████████████████████████████████| 337kB 7.9MB/s \n",
            "\u001b[?25hRequirement already satisfied: numpy>=1.9.1 in /usr/local/lib/python3.7/dist-packages (from keras==2.1.5) (1.19.5)\n",
            "Requirement already satisfied: six>=1.9.0 in /usr/local/lib/python3.7/dist-packages (from keras==2.1.5) (1.15.0)\n",
            "Requirement already satisfied: pyyaml in /usr/local/lib/python3.7/dist-packages (from keras==2.1.5) (3.13)\n",
            "Requirement already satisfied: scipy>=0.14 in /usr/local/lib/python3.7/dist-packages (from keras==2.1.5) (1.4.1)\n",
            "Installing collected packages: keras\n",
            "  Found existing installation: Keras 2.4.3\n",
            "    Uninstalling Keras-2.4.3:\n",
            "      Successfully uninstalled Keras-2.4.3\n",
            "Successfully installed keras-2.1.5\n"
          ],
          "name": "stdout"
        }
      ]
    },
    {
      "cell_type": "code",
      "metadata": {
        "colab": {
          "base_uri": "https://localhost:8080/"
        },
        "id": "RLYW9p6pJmpQ",
        "outputId": "28591ff4-7f47-4d7e-fd07-79f3fddcf4d1"
      },
      "source": [
        "import colorsys\n",
        "import imghdr\n",
        "import os\n",
        "import random\n",
        "from keras import backend as K\n",
        "\n",
        "import numpy as np\n",
        "from PIL import Image, ImageDraw, ImageFont\n",
        "\n",
        "def read_classes(classes_path):\n",
        "    with open(classes_path) as f:\n",
        "        class_names = f.readlines()\n",
        "    class_names = [c.strip() for c in class_names]\n",
        "    return class_names\n",
        "\n",
        "def read_anchors(anchors_path):\n",
        "    with open(anchors_path) as f:\n",
        "        anchors = f.readline()\n",
        "        anchors = [float(x) for x in anchors.split(',')]\n",
        "        anchors = np.array(anchors).reshape(-1, 2)\n",
        "    return anchors\n",
        "\n",
        "def generate_colors(class_names):\n",
        "    hsv_tuples = [(x / len(class_names), 1., 1.) for x in range(len(class_names))]\n",
        "    colors = list(map(lambda x: colorsys.hsv_to_rgb(*x), hsv_tuples))\n",
        "    colors = list(map(lambda x: (int(x[0] * 255), int(x[1] * 255), int(x[2] * 255)), colors))\n",
        "    random.seed(10101)  # Fixed seed for consistent colors across runs.\n",
        "    random.shuffle(colors)  # Shuffle colors to decorrelate adjacent classes.\n",
        "    random.seed(None)  # Reset seed to default.\n",
        "    return colors\n",
        "\n",
        "def scale_boxes(boxes, image_shape):\n",
        "    \"\"\" Scales the predicted boxes in order to be drawable on the image\"\"\"\n",
        "    height = image_shape[0]\n",
        "    width = image_shape[1]\n",
        "    image_dims = K.stack([height, width, height, width])\n",
        "    image_dims = K.reshape(image_dims, [1, 4])\n",
        "    boxes = boxes * image_dims\n",
        "    return boxes\n",
        "\n",
        "def preprocess_image(img_path, model_image_size):\n",
        "    image_type = imghdr.what(img_path)\n",
        "    image = Image.open(img_path)\n",
        "    resized_image = image.resize(tuple(reversed(model_image_size)), Image.BICUBIC)\n",
        "    image_data = np.array(resized_image, dtype='float32')\n",
        "    image_data /= 255.\n",
        "    image_data = np.expand_dims(image_data, 0)  # Add batch dimension.\n",
        "    return image, image_data\n",
        "\n",
        "def draw_boxes(image, out_scores, out_boxes, out_classes, class_names, colors):\n",
        "    \n",
        "    font = ImageFont.truetype(font='font/FiraMono-Medium.otf',size=np.floor(3e-2 * image.size[1] + 0.5).astype('int32'))\n",
        "    thickness = (image.size[0] + image.size[1]) // 300\n",
        "\n",
        "    for i, c in reversed(list(enumerate(out_classes))):\n",
        "        predicted_class = class_names[c]\n",
        "        box = out_boxes[i]\n",
        "        score = out_scores[i]\n",
        "\n",
        "        label = '{} {:.2f}'.format(predicted_class, score)\n",
        "\n",
        "        draw = ImageDraw.Draw(image)\n",
        "        label_size = draw.textsize(label, font)\n",
        "\n",
        "        top, left, bottom, right = box\n",
        "        top = max(0, np.floor(top + 0.5).astype('int32'))\n",
        "        left = max(0, np.floor(left + 0.5).astype('int32'))\n",
        "        bottom = min(image.size[1], np.floor(bottom + 0.5).astype('int32'))\n",
        "        right = min(image.size[0], np.floor(right + 0.5).astype('int32'))\n",
        "        print(label, (left, top), (right, bottom))\n",
        "\n",
        "        if top - label_size[1] >= 0:\n",
        "            text_origin = np.array([left, top - label_size[1]])\n",
        "        else:\n",
        "            text_origin = np.array([left, top + 1])\n",
        "\n",
        "        # My kingdom for a good redistributable image drawing library.\n",
        "        for i in range(thickness):\n",
        "            draw.rectangle([left + i, top + i, right - i, bottom - i], outline=colors[c])\n",
        "        draw.rectangle([tuple(text_origin), tuple(text_origin + label_size)], fill=colors[c])\n",
        "        draw.text(text_origin, label, fill=(0, 0, 0), font=font)\n",
        "        del draw"
      ],
      "execution_count": 6,
      "outputs": [
        {
          "output_type": "stream",
          "text": [
            "Using TensorFlow backend.\n"
          ],
          "name": "stderr"
        }
      ]
    },
    {
      "cell_type": "code",
      "metadata": {
        "colab": {
          "base_uri": "https://localhost:8080/"
        },
        "id": "b4xOXlzGK9VD",
        "outputId": "42013f7a-5006-4b9a-fa65-6da50e5a3fe9"
      },
      "source": [
        "!git clone https://github.com/allanzelener/yad2k.git"
      ],
      "execution_count": 8,
      "outputs": [
        {
          "output_type": "stream",
          "text": [
            "Cloning into 'yad2k'...\n",
            "remote: Enumerating objects: 243, done.\u001b[K\n",
            "remote: Total 243 (delta 0), reused 0 (delta 0), pack-reused 243\u001b[K\n",
            "Receiving objects: 100% (243/243), 2.35 MiB | 28.32 MiB/s, done.\n",
            "Resolving deltas: 100% (106/106), done.\n"
          ],
          "name": "stdout"
        }
      ]
    },
    {
      "cell_type": "code",
      "metadata": {
        "id": "yUQWy8zhKyxP"
      },
      "source": [
        "import argparse\n",
        "import os\n",
        "import matplotlib.pyplot as plt\n",
        "from matplotlib.pyplot import imshow\n",
        "import scipy.io\n",
        "import scipy.misc\n",
        "import numpy as np\n",
        "import pandas as pd\n",
        "import PIL\n",
        "import tensorflow as tf\n",
        "from keras import backend as K\n",
        "from keras.layers import Input, Lambda, Conv2D\n",
        "from keras.models import load_model, Model\n",
        "from yad2k.yad2k.models.keras_yolo import yolo_head, yolo_boxes_to_corners, preprocess_true_boxes, yolo_loss, yolo_body"
      ],
      "execution_count": 10,
      "outputs": []
    },
    {
      "cell_type": "code",
      "metadata": {
        "id": "sPJUgC6sLL_p"
      },
      "source": [
        "def yolo_filter_boxes(box_confidence, boxes, box_class_probs, threshold = .6):\n",
        "    \"\"\"Filters YOLO boxes by thresholding on object and class confidence.\n",
        "    \n",
        "    Arguments:\n",
        "    box_confidence -- tensor of shape (19, 19, 5, 1)\n",
        "    boxes -- tensor of shape (19, 19, 5, 4)\n",
        "    box_class_probs -- tensor of shape (19, 19, 5, 80)\n",
        "    threshold -- real value, if [ highest class probability score < threshold], then get rid of the corresponding box\n",
        "    \n",
        "    Returns:\n",
        "    scores -- tensor of shape (None,), containing the class probability score for selected boxes\n",
        "    boxes -- tensor of shape (None, 4), containing (b_x, b_y, b_h, b_w) coordinates of selected boxes\n",
        "    classes -- tensor of shape (None,), containing the index of the class detected by the selected boxes\n",
        "    \n",
        "    Note: \"None\" is here because you don't know the exact number of selected boxes, as it depends on the threshold. \n",
        "    For example, the actual output size of scores would be (10,) if there are 10 boxes.\n",
        "    \"\"\"\n",
        "    \n",
        "    # Step 1: Compute box scores\n",
        "    ### START CODE HERE ### (≈ 1 line)\n",
        "    box_scores = box_confidence * box_class_probs\n",
        "    ### END CODE HERE ###\n",
        "    \n",
        "    # Step 2: Find the box_classes using the max box_scores, keep track of the corresponding score\n",
        "    ### START CODE HERE ### (≈ 2 lines)\n",
        "    box_classes = K.argmax(box_scores, axis = -1)\n",
        "    box_class_scores = K.max(box_scores, axis = -1, keepdims=False)\n",
        "    ### END CODE HERE ###\n",
        "    \n",
        "    # Step 3: Create a filtering mask based on \"box_class_scores\" by using \"threshold\". The mask should have the\n",
        "    # same dimension as box_class_scores, and be True for the boxes you want to keep (with probability >= threshold)\n",
        "    ### START CODE HERE ### (≈ 1 line)\n",
        "    filtering_mask = (box_class_scores >= threshold)\n",
        "    ### END CODE HERE ###\n",
        "    \n",
        "    # Step 4: Apply the mask to box_class_scores, boxes and box_classes\n",
        "    ### START CODE HERE ### (≈ 3 lines)\n",
        "    scores = tf.boolean_mask(box_class_scores, filtering_mask)\n",
        "    boxes = tf.boolean_mask(boxes, filtering_mask)\n",
        "    classes = tf.boolean_mask(box_classes, filtering_mask)\n",
        "    ### END CODE HERE ###\n",
        "    \n",
        "    return scores, boxes, classes"
      ],
      "execution_count": 11,
      "outputs": []
    },
    {
      "cell_type": "code",
      "metadata": {
        "colab": {
          "base_uri": "https://localhost:8080/"
        },
        "id": "4Z2R0crLLOnK",
        "outputId": "1ad97094-7038-406c-8041-8510fadf3a69"
      },
      "source": [
        "with tf.Session() as test_a:\n",
        "    box_confidence = tf.random_normal([19, 19, 5, 1], mean=1, stddev=4, seed = 1)\n",
        "    boxes = tf.random_normal([19, 19, 5, 4], mean=1, stddev=4, seed = 1)\n",
        "    box_class_probs = tf.random_normal([19, 19, 5, 80], mean=1, stddev=4, seed = 1)\n",
        "    scores, boxes, classes = yolo_filter_boxes(box_confidence, boxes, box_class_probs, threshold = 0.5)\n",
        "    print(\"scores[2] = \" + str(scores[2].eval()))\n",
        "    print(\"boxes[2] = \" + str(boxes[2].eval()))\n",
        "    print(\"classes[2] = \" + str(classes[2].eval()))\n",
        "    print(\"scores.shape = \" + str(scores.shape))\n",
        "    print(\"boxes.shape = \" + str(boxes.shape))\n",
        "    print(\"classes.shape = \" + str(classes.shape))"
      ],
      "execution_count": 12,
      "outputs": [
        {
          "output_type": "stream",
          "text": [
            "WARNING:tensorflow:From /usr/local/lib/python3.7/dist-packages/tensorflow_core/python/ops/array_ops.py:1475: where (from tensorflow.python.ops.array_ops) is deprecated and will be removed in a future version.\n",
            "Instructions for updating:\n",
            "Use tf.where in 2.0, which has the same broadcast rule as np.where\n",
            "scores[2] = 10.750582\n",
            "boxes[2] = [ 8.426533   3.2713668 -0.5313436 -4.9413733]\n",
            "classes[2] = 7\n",
            "scores.shape = (?,)\n",
            "boxes.shape = (?, 4)\n",
            "classes.shape = (?,)\n"
          ],
          "name": "stdout"
        }
      ]
    },
    {
      "cell_type": "code",
      "metadata": {
        "id": "iRbfZB4QLUiY"
      },
      "source": [
        "\n",
        "def iou(box1, box2):\n",
        "    \"\"\"Implement the intersection over union (IoU) between box1 and box2\n",
        "    \n",
        "    Arguments:\n",
        "    box1 -- first box, list object with coordinates (box1_x1, box1_y1, box1_x2, box_1_y2)\n",
        "    box2 -- second box, list object with coordinates (box2_x1, box2_y1, box2_x2, box2_y2)\n",
        "    \"\"\"\n",
        "\n",
        "    # Assign variable names to coordinates for clarity\n",
        "    (box1_x1, box1_y1, box1_x2, box1_y2) = box1\n",
        "    (box2_x1, box2_y1, box2_x2, box2_y2) = box2\n",
        "    \n",
        "    # Calculate the (yi1, xi1, yi2, xi2) coordinates of the intersection of box1 and box2. Calculate its Area.\n",
        "    ### START CODE HERE ### (≈ 7 lines)\n",
        "    xi1 = np.maximum(box1[0], box2[0])\n",
        "    yi1 = np.maximum(box1[1], box2[1])\n",
        "    xi2 = np.minimum(box1[2], box2[2])\n",
        "    yi2 = np.minimum(box1[3], box2[3])\n",
        "    inter_width = xi2-xi1\n",
        "    inter_height = yi2-yi1\n",
        "    # Case in which they don't intersec --> max(,0)\n",
        "    inter_area = max(inter_width, 0) * max(inter_height, 0)\n",
        "    ### END CODE HERE ###    \n",
        "\n",
        "    # Calculate the Union area by using Formula: Union(A,B) = A + B - Inter(A,B)\n",
        "    ### START CODE HERE ### (≈ 3 lines)\n",
        "    box1_area = (box1[2]-box1[0])*(box1[3]-box1[1])\n",
        "    box2_area = (box2[2]-box2[0])*(box2[3]-box2[1])\n",
        "    union_area = box1_area + box2_area - inter_area\n",
        "    ### END CODE HERE ###\n",
        "    \n",
        "    # compute the IoU\n",
        "    ### START CODE HERE ### (≈ 1 line)\n",
        "    iou = float(inter_area)/float(union_area)\n",
        "    ### END CODE HERE ###\n",
        "    \n",
        "    return iou"
      ],
      "execution_count": 13,
      "outputs": []
    },
    {
      "cell_type": "code",
      "metadata": {
        "colab": {
          "base_uri": "https://localhost:8080/"
        },
        "id": "OPtROo0cLYrn",
        "outputId": "578d4def-c838-4d6e-9394-df1228b28855"
      },
      "source": [
        "## Test case 1: boxes intersect\n",
        "box1 = (2, 1, 4, 3)\n",
        "box2 = (1, 2, 3, 4) \n",
        "print(\"iou for intersecting boxes = \" + str(iou(box1, box2)))\n",
        "\n",
        "## Test case 2: boxes do not intersect\n",
        "box1 = (1,2,3,4)\n",
        "box2 = (5,6,7,8)\n",
        "print(\"iou for non-intersecting boxes = \" + str(iou(box1,box2)))\n",
        "\n",
        "## Test case 3: boxes intersect at vertices only\n",
        "box1 = (1,1,2,2)\n",
        "box2 = (2,2,3,3)\n",
        "print(\"iou for boxes that only touch at vertices = \" + str(iou(box1,box2)))\n",
        "\n",
        "## Test case 4: boxes intersect at edge only\n",
        "box1 = (1,1,3,3)\n",
        "box2 = (2,3,3,4)\n",
        "print(\"iou for boxes that only touch at edges = \" + str(iou(box1,box2)))"
      ],
      "execution_count": 14,
      "outputs": [
        {
          "output_type": "stream",
          "text": [
            "iou for intersecting boxes = 0.14285714285714285\n",
            "iou for non-intersecting boxes = 0.0\n",
            "iou for boxes that only touch at vertices = 0.0\n",
            "iou for boxes that only touch at edges = 0.0\n"
          ],
          "name": "stdout"
        }
      ]
    },
    {
      "cell_type": "code",
      "metadata": {
        "id": "uR-KWNE_LenK"
      },
      "source": [
        "def yolo_non_max_suppression(scores, boxes, classes, max_boxes = 10, iou_threshold = 0.5):\n",
        "    \"\"\"\n",
        "    Applies Non-max suppression (NMS) to set of boxes\n",
        "    \n",
        "    Arguments:\n",
        "    scores -- tensor of shape (None,), output of yolo_filter_boxes()\n",
        "    boxes -- tensor of shape (None, 4), output of yolo_filter_boxes() that have been scaled to the image size (see later)\n",
        "    classes -- tensor of shape (None,), output of yolo_filter_boxes()\n",
        "    max_boxes -- integer, maximum number of predicted boxes you'd like\n",
        "    iou_threshold -- real value, \"intersection over union\" threshold used for NMS filtering\n",
        "    \n",
        "    Returns:\n",
        "    scores -- tensor of shape (, None), predicted score for each box\n",
        "    boxes -- tensor of shape (4, None), predicted box coordinates\n",
        "    classes -- tensor of shape (, None), predicted class for each box\n",
        "    \n",
        "    Note: The \"None\" dimension of the output tensors has obviously to be less than max_boxes. Note also that this\n",
        "    function will transpose the shapes of scores, boxes, classes. This is made for convenience.\n",
        "    \"\"\"\n",
        "    \n",
        "    max_boxes_tensor = K.variable(max_boxes, dtype='int32')     # tensor to be used in tf.image.non_max_suppression()\n",
        "    K.get_session().run(tf.variables_initializer([max_boxes_tensor])) # initialize variable max_boxes_tensor\n",
        "    \n",
        "    # Use tf.image.non_max_suppression() to get the list of indices corresponding to boxes you keep\n",
        "    ### START CODE HERE ### (≈ 1 line)\n",
        "    nms_indices = tf.image.non_max_suppression(boxes, scores, max_output_size=max_boxes, iou_threshold=iou_threshold)\n",
        "    ### END CODE HERE ###\n",
        "    \n",
        "    # Use K.gather() to select only nms_indices from scores, boxes and classes\n",
        "    ### START CODE HERE ### (≈ 3 lines)\n",
        "    scores = K.gather(scores, nms_indices)\n",
        "    boxes = K.gather(boxes, nms_indices)\n",
        "    classes = K.gather(classes, nms_indices)\n",
        "    ### END CODE HERE ###\n",
        "    \n",
        "    return scores, boxes, classes"
      ],
      "execution_count": 15,
      "outputs": []
    },
    {
      "cell_type": "code",
      "metadata": {
        "colab": {
          "base_uri": "https://localhost:8080/"
        },
        "id": "mAvUkcvpLhd5",
        "outputId": "429a3ecb-b97d-4524-ee53-cb778a5d136d"
      },
      "source": [
        "with tf.Session() as test_b:\n",
        "    scores = tf.random_normal([54,], mean=1, stddev=4, seed = 1)\n",
        "    boxes = tf.random_normal([54, 4], mean=1, stddev=4, seed = 1)\n",
        "    classes = tf.random_normal([54,], mean=1, stddev=4, seed = 1)\n",
        "    scores, boxes, classes = yolo_non_max_suppression(scores, boxes, classes)\n",
        "    print(\"scores[2] = \" + str(scores[2].eval()))\n",
        "    print(\"boxes[2] = \" + str(boxes[2].eval()))\n",
        "    print(\"classes[2] = \" + str(classes[2].eval()))\n",
        "    print(\"scores.shape = \" + str(scores.eval().shape))\n",
        "    print(\"boxes.shape = \" + str(boxes.eval().shape))\n",
        "    print(\"classes.shape = \" + str(classes.eval().shape))"
      ],
      "execution_count": 16,
      "outputs": [
        {
          "output_type": "stream",
          "text": [
            "WARNING:tensorflow:From /usr/local/lib/python3.7/dist-packages/keras/backend/tensorflow_backend.py:167: The name tf.get_default_session is deprecated. Please use tf.compat.v1.get_default_session instead.\n",
            "\n",
            "WARNING:tensorflow:From /usr/local/lib/python3.7/dist-packages/keras/backend/tensorflow_backend.py:183: The name tf.global_variables is deprecated. Please use tf.compat.v1.global_variables instead.\n",
            "\n",
            "WARNING:tensorflow:From /usr/local/lib/python3.7/dist-packages/keras/backend/tensorflow_backend.py:192: The name tf.is_variable_initialized is deprecated. Please use tf.compat.v1.is_variable_initialized instead.\n",
            "\n",
            "WARNING:tensorflow:From /usr/local/lib/python3.7/dist-packages/keras/backend/tensorflow_backend.py:199: The name tf.variables_initializer is deprecated. Please use tf.compat.v1.variables_initializer instead.\n",
            "\n",
            "scores[2] = 6.938395\n",
            "boxes[2] = [-5.299932    3.1379814   4.450367    0.95942086]\n",
            "classes[2] = -2.2452729\n",
            "scores.shape = (10,)\n",
            "boxes.shape = (10, 4)\n",
            "classes.shape = (10,)\n"
          ],
          "name": "stdout"
        }
      ]
    },
    {
      "cell_type": "code",
      "metadata": {
        "id": "IcCvdpDPLp7o"
      },
      "source": [
        "def yolo_eval(yolo_outputs, image_shape = (720., 1280.), max_boxes=10, score_threshold=.6, iou_threshold=.5):\n",
        "    \"\"\"\n",
        "    Converts the output of YOLO encoding (a lot of boxes) to your predicted boxes along with their scores, box coordinates and classes.\n",
        "    \n",
        "    Arguments:\n",
        "    yolo_outputs -- output of the encoding model (for image_shape of (608, 608, 3)), contains 4 tensors:\n",
        "                    box_confidence: tensor of shape (None, 19, 19, 5, 1)\n",
        "                    box_xy: tensor of shape (None, 19, 19, 5, 2)\n",
        "                    box_wh: tensor of shape (None, 19, 19, 5, 2)\n",
        "                    box_class_probs: tensor of shape (None, 19, 19, 5, 80)\n",
        "    image_shape -- tensor of shape (2,) containing the input shape, in this notebook we use (608., 608.) (has to be float32 dtype)\n",
        "    max_boxes -- integer, maximum number of predicted boxes you'd like\n",
        "    score_threshold -- real value, if [ highest class probability score < threshold], then get rid of the corresponding box\n",
        "    iou_threshold -- real value, \"intersection over union\" threshold used for NMS filtering\n",
        "    \n",
        "    Returns:\n",
        "    scores -- tensor of shape (None, ), predicted score for each box\n",
        "    boxes -- tensor of shape (None, 4), predicted box coordinates\n",
        "    classes -- tensor of shape (None,), predicted class for each box\n",
        "    \"\"\"\n",
        "    \n",
        "    ### START CODE HERE ### \n",
        "    \n",
        "    # Retrieve outputs of the YOLO model (≈1 line)\n",
        "    box_confidence, box_xy, box_wh, box_class_probs = yolo_outputs\n",
        "\n",
        "    # Convert boxes to be ready for filtering functions (convert boxes box_xy and box_wh to corner coordinates)\n",
        "    boxes = yolo_boxes_to_corners(box_xy, box_wh)\n",
        "\n",
        "    # Use one of the functions you've implemented to perform Score-filtering with a threshold of score_threshold (≈1 line)\n",
        "    scores, boxes, classes = yolo_filter_boxes(box_confidence, boxes, box_class_probs, score_threshold)\n",
        "    \n",
        "    # Scale boxes back to original image shape.\n",
        "    boxes = scale_boxes(boxes, image_shape)\n",
        "\n",
        "    # Use one of the functions you've implemented to perform Non-max suppression with \n",
        "    # maximum number of boxes set to max_boxes and a threshold of iou_threshold (≈1 line)\n",
        "    scores, boxes, classes = yolo_non_max_suppression(scores, boxes, classes, max_boxes, iou_threshold)\n",
        "    \n",
        "    ### END CODE HERE ###\n",
        "    \n",
        "    return scores, boxes, classes"
      ],
      "execution_count": 17,
      "outputs": []
    },
    {
      "cell_type": "code",
      "metadata": {
        "colab": {
          "base_uri": "https://localhost:8080/"
        },
        "id": "OkZECDxOLsko",
        "outputId": "6b08817f-33b8-4bd5-f2ec-b5783bd9274c"
      },
      "source": [
        "with tf.Session() as test_b:\n",
        "    yolo_outputs = (tf.random_normal([19, 19, 5, 1], mean=1, stddev=4, seed = 1),\n",
        "                    tf.random_normal([19, 19, 5, 2], mean=1, stddev=4, seed = 1),\n",
        "                    tf.random_normal([19, 19, 5, 2], mean=1, stddev=4, seed = 1),\n",
        "                    tf.random_normal([19, 19, 5, 80], mean=1, stddev=4, seed = 1))\n",
        "    scores, boxes, classes = yolo_eval(yolo_outputs)\n",
        "    print(\"scores[2] = \" + str(scores[2].eval()))\n",
        "    print(\"boxes[2] = \" + str(boxes[2].eval()))\n",
        "    print(\"classes[2] = \" + str(classes[2].eval()))\n",
        "    print(\"scores.shape = \" + str(scores.eval().shape))\n",
        "    print(\"boxes.shape = \" + str(boxes.eval().shape))\n",
        "    print(\"classes.shape = \" + str(classes.eval().shape))"
      ],
      "execution_count": 18,
      "outputs": [
        {
          "output_type": "stream",
          "text": [
            "scores[2] = 138.79124\n",
            "boxes[2] = [1292.3297  -278.52167 3876.9893  -835.56494]\n",
            "classes[2] = 54\n",
            "scores.shape = (10,)\n",
            "boxes.shape = (10, 4)\n",
            "classes.shape = (10,)\n"
          ],
          "name": "stdout"
        }
      ]
    },
    {
      "cell_type": "code",
      "metadata": {
        "colab": {
          "base_uri": "https://localhost:8080/"
        },
        "id": "OHmT6UtMLv7w",
        "outputId": "72ffdc46-45d3-49e0-fb4d-ba2198fb98de"
      },
      "source": [
        "sess = K.get_session()"
      ],
      "execution_count": 19,
      "outputs": [
        {
          "output_type": "stream",
          "text": [
            "WARNING:tensorflow:From /usr/local/lib/python3.7/dist-packages/keras/backend/tensorflow_backend.py:174: The name tf.ConfigProto is deprecated. Please use tf.compat.v1.ConfigProto instead.\n",
            "\n"
          ],
          "name": "stdout"
        }
      ]
    },
    {
      "cell_type": "code",
      "metadata": {
        "colab": {
          "base_uri": "https://localhost:8080/"
        },
        "id": "gAlMDfN8MOyA",
        "outputId": "910a7f3f-29e2-4e29-87c9-44b653431800"
      },
      "source": [
        "!git clone https://github.com/AliARajabi/deep-learning.git"
      ],
      "execution_count": 20,
      "outputs": [
        {
          "output_type": "stream",
          "text": [
            "Cloning into 'deep-learning'...\n",
            "remote: Enumerating objects: 159, done.\u001b[K\n",
            "remote: Counting objects: 100% (159/159), done.\u001b[K\n",
            "remote: Compressing objects: 100% (150/150), done.\u001b[K\n",
            "remote: Total 159 (delta 45), reused 0 (delta 0), pack-reused 0\u001b[K\n",
            "Receiving objects: 100% (159/159), 19.83 MiB | 13.46 MiB/s, done.\n",
            "Resolving deltas: 100% (45/45), done.\n"
          ],
          "name": "stdout"
        }
      ]
    },
    {
      "cell_type": "code",
      "metadata": {
        "id": "wJE8juPxLxFQ"
      },
      "source": [
        "class_names = read_classes(\"/content/deep-learning/Car detection using Yolo/coco_classes.txt\")\n",
        "anchors = read_anchors(\"/content/deep-learning/Car detection using Yolo/yolo_anchors.txt\")\n",
        "image_shape = (720., 1280.)  "
      ],
      "execution_count": 21,
      "outputs": []
    },
    {
      "cell_type": "code",
      "metadata": {
        "colab": {
          "base_uri": "https://localhost:8080/"
        },
        "id": "QsxIhOulMbNp",
        "outputId": "55110341-de87-4b8f-bbe7-c66acc26e176"
      },
      "source": [
        "!wget https://github.com/amanchadha/coursera-deep-learning-specialization/raw/master/C4%20-%20Convolutional%20Neural%20Networks/Week%203/Car%20detection%20for%20Autonomous%20Driving/model_data/yolo.h5.zip"
      ],
      "execution_count": 22,
      "outputs": [
        {
          "output_type": "stream",
          "text": [
            "--2021-04-01 16:10:22--  https://github.com/amanchadha/coursera-deep-learning-specialization/raw/master/C4%20-%20Convolutional%20Neural%20Networks/Week%203/Car%20detection%20for%20Autonomous%20Driving/model_data/yolo.h5.zip\n",
            "Resolving github.com (github.com)... 192.30.255.113\n",
            "Connecting to github.com (github.com)|192.30.255.113|:443... connected.\n",
            "HTTP request sent, awaiting response... 302 Found\n",
            "Location: https://media.githubusercontent.com/media/amanchadha/coursera-deep-learning-specialization/master/C4%20-%20Convolutional%20Neural%20Networks/Week%203/Car%20detection%20for%20Autonomous%20Driving/model_data/yolo.h5.zip [following]\n",
            "--2021-04-01 16:10:22--  https://media.githubusercontent.com/media/amanchadha/coursera-deep-learning-specialization/master/C4%20-%20Convolutional%20Neural%20Networks/Week%203/Car%20detection%20for%20Autonomous%20Driving/model_data/yolo.h5.zip\n",
            "Resolving media.githubusercontent.com (media.githubusercontent.com)... 185.199.108.133, 185.199.109.133, 185.199.110.133, ...\n",
            "Connecting to media.githubusercontent.com (media.githubusercontent.com)|185.199.108.133|:443... connected.\n",
            "HTTP request sent, awaiting response... 200 OK\n",
            "Length: 189265261 (180M) [application/zip]\n",
            "Saving to: ‘yolo.h5.zip’\n",
            "\n",
            "yolo.h5.zip         100%[===================>] 180.50M   126MB/s    in 1.4s    \n",
            "\n",
            "2021-04-01 16:10:28 (126 MB/s) - ‘yolo.h5.zip’ saved [189265261/189265261]\n",
            "\n"
          ],
          "name": "stdout"
        }
      ]
    },
    {
      "cell_type": "code",
      "metadata": {
        "id": "yiSzaerXM8Ec"
      },
      "source": [
        "import zipfile\n",
        "zip_ref = zipfile.ZipFile(\"/content/yolo.h5.zip\", \"r\")\n",
        "zip_ref.extractall()\n",
        "zip_ref.close()"
      ],
      "execution_count": 27,
      "outputs": []
    },
    {
      "cell_type": "code",
      "metadata": {
        "colab": {
          "base_uri": "https://localhost:8080/"
        },
        "id": "4ooBsJQIMaqo",
        "outputId": "4cfb4ff5-5cc6-4709-9c03-80a535d73d01"
      },
      "source": [
        "yolo_model = load_model(\"/content/yolo.h5\")"
      ],
      "execution_count": 29,
      "outputs": [
        {
          "output_type": "stream",
          "text": [
            "WARNING:tensorflow:From /usr/local/lib/python3.7/dist-packages/keras/backend/tensorflow_backend.py:507: The name tf.placeholder is deprecated. Please use tf.compat.v1.placeholder instead.\n",
            "\n",
            "WARNING:tensorflow:From /usr/local/lib/python3.7/dist-packages/keras/backend/tensorflow_backend.py:3831: The name tf.random_uniform is deprecated. Please use tf.random.uniform instead.\n",
            "\n",
            "WARNING:tensorflow:From /usr/local/lib/python3.7/dist-packages/keras/backend/tensorflow_backend.py:238: The name tf.get_default_graph is deprecated. Please use tf.compat.v1.get_default_graph instead.\n",
            "\n",
            "WARNING:tensorflow:From /usr/local/lib/python3.7/dist-packages/keras/backend/tensorflow_backend.py:1797: The name tf.nn.fused_batch_norm is deprecated. Please use tf.compat.v1.nn.fused_batch_norm instead.\n",
            "\n",
            "WARNING:tensorflow:From /usr/local/lib/python3.7/dist-packages/keras/backend/tensorflow_backend.py:126: The name tf.placeholder_with_default is deprecated. Please use tf.compat.v1.placeholder_with_default instead.\n",
            "\n",
            "WARNING:tensorflow:From /usr/local/lib/python3.7/dist-packages/keras/backend/tensorflow_backend.py:3655: The name tf.nn.max_pool is deprecated. Please use tf.nn.max_pool2d instead.\n",
            "\n",
            "WARNING:tensorflow:From /Users/kian/Desktop/floydhub/yolo-03-oct/YAD2K/yad2k/models/keras_yolo.py:32: The name tf.space_to_depth is deprecated. Please use tf.compat.v1.space_to_depth instead.\n",
            "\n"
          ],
          "name": "stdout"
        },
        {
          "output_type": "stream",
          "text": [
            "/usr/local/lib/python3.7/dist-packages/keras/models.py:255: UserWarning: No training configuration found in save file: the model was *not* compiled. Compile it manually.\n",
            "  warnings.warn('No training configuration found in save file: '\n"
          ],
          "name": "stderr"
        }
      ]
    },
    {
      "cell_type": "code",
      "metadata": {
        "colab": {
          "base_uri": "https://localhost:8080/"
        },
        "id": "A738I8ZpN0am",
        "outputId": "545d61ed-3ef2-4588-b6dd-f66c91763fb4"
      },
      "source": [
        "yolo_model.summary()"
      ],
      "execution_count": 30,
      "outputs": [
        {
          "output_type": "stream",
          "text": [
            "__________________________________________________________________________________________________\n",
            "Layer (type)                    Output Shape         Param #     Connected to                     \n",
            "==================================================================================================\n",
            "input_1 (InputLayer)            (None, 608, 608, 3)  0                                            \n",
            "__________________________________________________________________________________________________\n",
            "conv2d_1 (Conv2D)               (None, 608, 608, 32) 864         input_1[0][0]                    \n",
            "__________________________________________________________________________________________________\n",
            "batch_normalization_1 (BatchNor (None, 608, 608, 32) 128         conv2d_1[0][0]                   \n",
            "__________________________________________________________________________________________________\n",
            "leaky_re_lu_1 (LeakyReLU)       (None, 608, 608, 32) 0           batch_normalization_1[0][0]      \n",
            "__________________________________________________________________________________________________\n",
            "max_pooling2d_1 (MaxPooling2D)  (None, 304, 304, 32) 0           leaky_re_lu_1[0][0]              \n",
            "__________________________________________________________________________________________________\n",
            "conv2d_2 (Conv2D)               (None, 304, 304, 64) 18432       max_pooling2d_1[0][0]            \n",
            "__________________________________________________________________________________________________\n",
            "batch_normalization_2 (BatchNor (None, 304, 304, 64) 256         conv2d_2[0][0]                   \n",
            "__________________________________________________________________________________________________\n",
            "leaky_re_lu_2 (LeakyReLU)       (None, 304, 304, 64) 0           batch_normalization_2[0][0]      \n",
            "__________________________________________________________________________________________________\n",
            "max_pooling2d_2 (MaxPooling2D)  (None, 152, 152, 64) 0           leaky_re_lu_2[0][0]              \n",
            "__________________________________________________________________________________________________\n",
            "conv2d_3 (Conv2D)               (None, 152, 152, 128 73728       max_pooling2d_2[0][0]            \n",
            "__________________________________________________________________________________________________\n",
            "batch_normalization_3 (BatchNor (None, 152, 152, 128 512         conv2d_3[0][0]                   \n",
            "__________________________________________________________________________________________________\n",
            "leaky_re_lu_3 (LeakyReLU)       (None, 152, 152, 128 0           batch_normalization_3[0][0]      \n",
            "__________________________________________________________________________________________________\n",
            "conv2d_4 (Conv2D)               (None, 152, 152, 64) 8192        leaky_re_lu_3[0][0]              \n",
            "__________________________________________________________________________________________________\n",
            "batch_normalization_4 (BatchNor (None, 152, 152, 64) 256         conv2d_4[0][0]                   \n",
            "__________________________________________________________________________________________________\n",
            "leaky_re_lu_4 (LeakyReLU)       (None, 152, 152, 64) 0           batch_normalization_4[0][0]      \n",
            "__________________________________________________________________________________________________\n",
            "conv2d_5 (Conv2D)               (None, 152, 152, 128 73728       leaky_re_lu_4[0][0]              \n",
            "__________________________________________________________________________________________________\n",
            "batch_normalization_5 (BatchNor (None, 152, 152, 128 512         conv2d_5[0][0]                   \n",
            "__________________________________________________________________________________________________\n",
            "leaky_re_lu_5 (LeakyReLU)       (None, 152, 152, 128 0           batch_normalization_5[0][0]      \n",
            "__________________________________________________________________________________________________\n",
            "max_pooling2d_3 (MaxPooling2D)  (None, 76, 76, 128)  0           leaky_re_lu_5[0][0]              \n",
            "__________________________________________________________________________________________________\n",
            "conv2d_6 (Conv2D)               (None, 76, 76, 256)  294912      max_pooling2d_3[0][0]            \n",
            "__________________________________________________________________________________________________\n",
            "batch_normalization_6 (BatchNor (None, 76, 76, 256)  1024        conv2d_6[0][0]                   \n",
            "__________________________________________________________________________________________________\n",
            "leaky_re_lu_6 (LeakyReLU)       (None, 76, 76, 256)  0           batch_normalization_6[0][0]      \n",
            "__________________________________________________________________________________________________\n",
            "conv2d_7 (Conv2D)               (None, 76, 76, 128)  32768       leaky_re_lu_6[0][0]              \n",
            "__________________________________________________________________________________________________\n",
            "batch_normalization_7 (BatchNor (None, 76, 76, 128)  512         conv2d_7[0][0]                   \n",
            "__________________________________________________________________________________________________\n",
            "leaky_re_lu_7 (LeakyReLU)       (None, 76, 76, 128)  0           batch_normalization_7[0][0]      \n",
            "__________________________________________________________________________________________________\n",
            "conv2d_8 (Conv2D)               (None, 76, 76, 256)  294912      leaky_re_lu_7[0][0]              \n",
            "__________________________________________________________________________________________________\n",
            "batch_normalization_8 (BatchNor (None, 76, 76, 256)  1024        conv2d_8[0][0]                   \n",
            "__________________________________________________________________________________________________\n",
            "leaky_re_lu_8 (LeakyReLU)       (None, 76, 76, 256)  0           batch_normalization_8[0][0]      \n",
            "__________________________________________________________________________________________________\n",
            "max_pooling2d_4 (MaxPooling2D)  (None, 38, 38, 256)  0           leaky_re_lu_8[0][0]              \n",
            "__________________________________________________________________________________________________\n",
            "conv2d_9 (Conv2D)               (None, 38, 38, 512)  1179648     max_pooling2d_4[0][0]            \n",
            "__________________________________________________________________________________________________\n",
            "batch_normalization_9 (BatchNor (None, 38, 38, 512)  2048        conv2d_9[0][0]                   \n",
            "__________________________________________________________________________________________________\n",
            "leaky_re_lu_9 (LeakyReLU)       (None, 38, 38, 512)  0           batch_normalization_9[0][0]      \n",
            "__________________________________________________________________________________________________\n",
            "conv2d_10 (Conv2D)              (None, 38, 38, 256)  131072      leaky_re_lu_9[0][0]              \n",
            "__________________________________________________________________________________________________\n",
            "batch_normalization_10 (BatchNo (None, 38, 38, 256)  1024        conv2d_10[0][0]                  \n",
            "__________________________________________________________________________________________________\n",
            "leaky_re_lu_10 (LeakyReLU)      (None, 38, 38, 256)  0           batch_normalization_10[0][0]     \n",
            "__________________________________________________________________________________________________\n",
            "conv2d_11 (Conv2D)              (None, 38, 38, 512)  1179648     leaky_re_lu_10[0][0]             \n",
            "__________________________________________________________________________________________________\n",
            "batch_normalization_11 (BatchNo (None, 38, 38, 512)  2048        conv2d_11[0][0]                  \n",
            "__________________________________________________________________________________________________\n",
            "leaky_re_lu_11 (LeakyReLU)      (None, 38, 38, 512)  0           batch_normalization_11[0][0]     \n",
            "__________________________________________________________________________________________________\n",
            "conv2d_12 (Conv2D)              (None, 38, 38, 256)  131072      leaky_re_lu_11[0][0]             \n",
            "__________________________________________________________________________________________________\n",
            "batch_normalization_12 (BatchNo (None, 38, 38, 256)  1024        conv2d_12[0][0]                  \n",
            "__________________________________________________________________________________________________\n",
            "leaky_re_lu_12 (LeakyReLU)      (None, 38, 38, 256)  0           batch_normalization_12[0][0]     \n",
            "__________________________________________________________________________________________________\n",
            "conv2d_13 (Conv2D)              (None, 38, 38, 512)  1179648     leaky_re_lu_12[0][0]             \n",
            "__________________________________________________________________________________________________\n",
            "batch_normalization_13 (BatchNo (None, 38, 38, 512)  2048        conv2d_13[0][0]                  \n",
            "__________________________________________________________________________________________________\n",
            "leaky_re_lu_13 (LeakyReLU)      (None, 38, 38, 512)  0           batch_normalization_13[0][0]     \n",
            "__________________________________________________________________________________________________\n",
            "max_pooling2d_5 (MaxPooling2D)  (None, 19, 19, 512)  0           leaky_re_lu_13[0][0]             \n",
            "__________________________________________________________________________________________________\n",
            "conv2d_14 (Conv2D)              (None, 19, 19, 1024) 4718592     max_pooling2d_5[0][0]            \n",
            "__________________________________________________________________________________________________\n",
            "batch_normalization_14 (BatchNo (None, 19, 19, 1024) 4096        conv2d_14[0][0]                  \n",
            "__________________________________________________________________________________________________\n",
            "leaky_re_lu_14 (LeakyReLU)      (None, 19, 19, 1024) 0           batch_normalization_14[0][0]     \n",
            "__________________________________________________________________________________________________\n",
            "conv2d_15 (Conv2D)              (None, 19, 19, 512)  524288      leaky_re_lu_14[0][0]             \n",
            "__________________________________________________________________________________________________\n",
            "batch_normalization_15 (BatchNo (None, 19, 19, 512)  2048        conv2d_15[0][0]                  \n",
            "__________________________________________________________________________________________________\n",
            "leaky_re_lu_15 (LeakyReLU)      (None, 19, 19, 512)  0           batch_normalization_15[0][0]     \n",
            "__________________________________________________________________________________________________\n",
            "conv2d_16 (Conv2D)              (None, 19, 19, 1024) 4718592     leaky_re_lu_15[0][0]             \n",
            "__________________________________________________________________________________________________\n",
            "batch_normalization_16 (BatchNo (None, 19, 19, 1024) 4096        conv2d_16[0][0]                  \n",
            "__________________________________________________________________________________________________\n",
            "leaky_re_lu_16 (LeakyReLU)      (None, 19, 19, 1024) 0           batch_normalization_16[0][0]     \n",
            "__________________________________________________________________________________________________\n",
            "conv2d_17 (Conv2D)              (None, 19, 19, 512)  524288      leaky_re_lu_16[0][0]             \n",
            "__________________________________________________________________________________________________\n",
            "batch_normalization_17 (BatchNo (None, 19, 19, 512)  2048        conv2d_17[0][0]                  \n",
            "__________________________________________________________________________________________________\n",
            "leaky_re_lu_17 (LeakyReLU)      (None, 19, 19, 512)  0           batch_normalization_17[0][0]     \n",
            "__________________________________________________________________________________________________\n",
            "conv2d_18 (Conv2D)              (None, 19, 19, 1024) 4718592     leaky_re_lu_17[0][0]             \n",
            "__________________________________________________________________________________________________\n",
            "batch_normalization_18 (BatchNo (None, 19, 19, 1024) 4096        conv2d_18[0][0]                  \n",
            "__________________________________________________________________________________________________\n",
            "leaky_re_lu_18 (LeakyReLU)      (None, 19, 19, 1024) 0           batch_normalization_18[0][0]     \n",
            "__________________________________________________________________________________________________\n",
            "conv2d_19 (Conv2D)              (None, 19, 19, 1024) 9437184     leaky_re_lu_18[0][0]             \n",
            "__________________________________________________________________________________________________\n",
            "batch_normalization_19 (BatchNo (None, 19, 19, 1024) 4096        conv2d_19[0][0]                  \n",
            "__________________________________________________________________________________________________\n",
            "conv2d_21 (Conv2D)              (None, 38, 38, 64)   32768       leaky_re_lu_13[0][0]             \n",
            "__________________________________________________________________________________________________\n",
            "leaky_re_lu_19 (LeakyReLU)      (None, 19, 19, 1024) 0           batch_normalization_19[0][0]     \n",
            "__________________________________________________________________________________________________\n",
            "batch_normalization_21 (BatchNo (None, 38, 38, 64)   256         conv2d_21[0][0]                  \n",
            "__________________________________________________________________________________________________\n",
            "conv2d_20 (Conv2D)              (None, 19, 19, 1024) 9437184     leaky_re_lu_19[0][0]             \n",
            "__________________________________________________________________________________________________\n",
            "leaky_re_lu_21 (LeakyReLU)      (None, 38, 38, 64)   0           batch_normalization_21[0][0]     \n",
            "__________________________________________________________________________________________________\n",
            "batch_normalization_20 (BatchNo (None, 19, 19, 1024) 4096        conv2d_20[0][0]                  \n",
            "__________________________________________________________________________________________________\n",
            "space_to_depth_x2 (Lambda)      (None, 19, 19, 256)  0           leaky_re_lu_21[0][0]             \n",
            "__________________________________________________________________________________________________\n",
            "leaky_re_lu_20 (LeakyReLU)      (None, 19, 19, 1024) 0           batch_normalization_20[0][0]     \n",
            "__________________________________________________________________________________________________\n",
            "concatenate_1 (Concatenate)     (None, 19, 19, 1280) 0           space_to_depth_x2[0][0]          \n",
            "                                                                 leaky_re_lu_20[0][0]             \n",
            "__________________________________________________________________________________________________\n",
            "conv2d_22 (Conv2D)              (None, 19, 19, 1024) 11796480    concatenate_1[0][0]              \n",
            "__________________________________________________________________________________________________\n",
            "batch_normalization_22 (BatchNo (None, 19, 19, 1024) 4096        conv2d_22[0][0]                  \n",
            "__________________________________________________________________________________________________\n",
            "leaky_re_lu_22 (LeakyReLU)      (None, 19, 19, 1024) 0           batch_normalization_22[0][0]     \n",
            "__________________________________________________________________________________________________\n",
            "conv2d_23 (Conv2D)              (None, 19, 19, 425)  435625      leaky_re_lu_22[0][0]             \n",
            "==================================================================================================\n",
            "Total params: 50,983,561\n",
            "Trainable params: 50,962,889\n",
            "Non-trainable params: 20,672\n",
            "__________________________________________________________________________________________________\n"
          ],
          "name": "stdout"
        }
      ]
    },
    {
      "cell_type": "code",
      "metadata": {
        "colab": {
          "base_uri": "https://localhost:8080/",
          "height": 1000
        },
        "id": "-NZy4ae1OK3p",
        "outputId": "96be9546-e3b5-4c27-98fb-7d2bdcfcd0cf"
      },
      "source": [
        "from keras.utils import plot_model\n",
        "from IPython.display import SVG\n",
        "from keras.utils.vis_utils import model_to_dot\n",
        "plot_model(yolo_model, to_file='model.png')\n",
        "SVG(model_to_dot(yolo_model).create(prog='dot', format='svg'))"
      ],
      "execution_count": 37,
      "outputs": [
        {
          "output_type": "execute_result",
          "data": {
            "text/plain": [
              "<IPython.core.display.SVG object>"
            ],
            "image/svg+xml": "<svg height=\"5155pt\" viewBox=\"0.00 0.00 582.00 5155.00\" width=\"582pt\" xmlns=\"http://www.w3.org/2000/svg\" xmlns:xlink=\"http://www.w3.org/1999/xlink\">\n<g class=\"graph\" id=\"graph0\" transform=\"scale(1 1) rotate(0) translate(4 5151)\">\n<title>G</title>\n<polygon fill=\"#ffffff\" points=\"-4,4 -4,-5151 578,-5151 578,4 -4,4\" stroke=\"transparent\"/>\n<!-- 140271883597136 -->\n<g class=\"node\" id=\"node1\">\n<title>140271883597136</title>\n<polygon fill=\"none\" points=\"219.5,-5110.5 219.5,-5146.5 352.5,-5146.5 352.5,-5110.5 219.5,-5110.5\" stroke=\"#000000\"/>\n<text fill=\"#000000\" font-family=\"Times,serif\" font-size=\"14.00\" text-anchor=\"middle\" x=\"286\" y=\"-5124.8\">input_1: InputLayer</text>\n</g>\n<!-- 140271883768720 -->\n<g class=\"node\" id=\"node2\">\n<title>140271883768720</title>\n<polygon fill=\"none\" points=\"219.5,-5037.5 219.5,-5073.5 352.5,-5073.5 352.5,-5037.5 219.5,-5037.5\" stroke=\"#000000\"/>\n<text fill=\"#000000\" font-family=\"Times,serif\" font-size=\"14.00\" text-anchor=\"middle\" x=\"286\" y=\"-5051.8\">conv2d_1: Conv2D</text>\n</g>\n<!-- 140271883597136&#45;&gt;140271883768720 -->\n<g class=\"edge\" id=\"edge1\">\n<title>140271883597136-&gt;140271883768720</title>\n<path d=\"M286,-5110.4551C286,-5102.3828 286,-5092.6764 286,-5083.6817\" fill=\"none\" stroke=\"#000000\"/>\n<polygon fill=\"#000000\" points=\"289.5001,-5083.5903 286,-5073.5904 282.5001,-5083.5904 289.5001,-5083.5903\" stroke=\"#000000\"/>\n</g>\n<!-- 140271883596944 -->\n<g class=\"node\" id=\"node3\">\n<title>140271883596944</title>\n<polygon fill=\"none\" points=\"150.5,-4964.5 150.5,-5000.5 421.5,-5000.5 421.5,-4964.5 150.5,-4964.5\" stroke=\"#000000\"/>\n<text fill=\"#000000\" font-family=\"Times,serif\" font-size=\"14.00\" text-anchor=\"middle\" x=\"286\" y=\"-4978.8\">batch_normalization_1: BatchNormalization</text>\n</g>\n<!-- 140271883768720&#45;&gt;140271883596944 -->\n<g class=\"edge\" id=\"edge2\">\n<title>140271883768720-&gt;140271883596944</title>\n<path d=\"M286,-5037.4551C286,-5029.3828 286,-5019.6764 286,-5010.6817\" fill=\"none\" stroke=\"#000000\"/>\n<polygon fill=\"#000000\" points=\"289.5001,-5010.5903 286,-5000.5904 282.5001,-5010.5904 289.5001,-5010.5903\" stroke=\"#000000\"/>\n</g>\n<!-- 140271883598736 -->\n<g class=\"node\" id=\"node4\">\n<title>140271883598736</title>\n<polygon fill=\"none\" points=\"197,-4891.5 197,-4927.5 375,-4927.5 375,-4891.5 197,-4891.5\" stroke=\"#000000\"/>\n<text fill=\"#000000\" font-family=\"Times,serif\" font-size=\"14.00\" text-anchor=\"middle\" x=\"286\" y=\"-4905.8\">leaky_re_lu_1: LeakyReLU</text>\n</g>\n<!-- 140271883596944&#45;&gt;140271883598736 -->\n<g class=\"edge\" id=\"edge3\">\n<title>140271883596944-&gt;140271883598736</title>\n<path d=\"M286,-4964.4551C286,-4956.3828 286,-4946.6764 286,-4937.6817\" fill=\"none\" stroke=\"#000000\"/>\n<polygon fill=\"#000000\" points=\"289.5001,-4937.5903 286,-4927.5904 282.5001,-4937.5904 289.5001,-4937.5903\" stroke=\"#000000\"/>\n</g>\n<!-- 140271883598608 -->\n<g class=\"node\" id=\"node5\">\n<title>140271883598608</title>\n<polygon fill=\"none\" points=\"175.5,-4818.5 175.5,-4854.5 396.5,-4854.5 396.5,-4818.5 175.5,-4818.5\" stroke=\"#000000\"/>\n<text fill=\"#000000\" font-family=\"Times,serif\" font-size=\"14.00\" text-anchor=\"middle\" x=\"286\" y=\"-4832.8\">max_pooling2d_1: MaxPooling2D</text>\n</g>\n<!-- 140271883598736&#45;&gt;140271883598608 -->\n<g class=\"edge\" id=\"edge4\">\n<title>140271883598736-&gt;140271883598608</title>\n<path d=\"M286,-4891.4551C286,-4883.3828 286,-4873.6764 286,-4864.6817\" fill=\"none\" stroke=\"#000000\"/>\n<polygon fill=\"#000000\" points=\"289.5001,-4864.5903 286,-4854.5904 282.5001,-4864.5904 289.5001,-4864.5903\" stroke=\"#000000\"/>\n</g>\n<!-- 140271883598864 -->\n<g class=\"node\" id=\"node6\">\n<title>140271883598864</title>\n<polygon fill=\"none\" points=\"219.5,-4745.5 219.5,-4781.5 352.5,-4781.5 352.5,-4745.5 219.5,-4745.5\" stroke=\"#000000\"/>\n<text fill=\"#000000\" font-family=\"Times,serif\" font-size=\"14.00\" text-anchor=\"middle\" x=\"286\" y=\"-4759.8\">conv2d_2: Conv2D</text>\n</g>\n<!-- 140271883598608&#45;&gt;140271883598864 -->\n<g class=\"edge\" id=\"edge5\">\n<title>140271883598608-&gt;140271883598864</title>\n<path d=\"M286,-4818.4551C286,-4810.3828 286,-4800.6764 286,-4791.6817\" fill=\"none\" stroke=\"#000000\"/>\n<polygon fill=\"#000000\" points=\"289.5001,-4791.5903 286,-4781.5904 282.5001,-4791.5904 289.5001,-4791.5903\" stroke=\"#000000\"/>\n</g>\n<!-- 140271883599184 -->\n<g class=\"node\" id=\"node7\">\n<title>140271883599184</title>\n<polygon fill=\"none\" points=\"150.5,-4672.5 150.5,-4708.5 421.5,-4708.5 421.5,-4672.5 150.5,-4672.5\" stroke=\"#000000\"/>\n<text fill=\"#000000\" font-family=\"Times,serif\" font-size=\"14.00\" text-anchor=\"middle\" x=\"286\" y=\"-4686.8\">batch_normalization_2: BatchNormalization</text>\n</g>\n<!-- 140271883598864&#45;&gt;140271883599184 -->\n<g class=\"edge\" id=\"edge6\">\n<title>140271883598864-&gt;140271883599184</title>\n<path d=\"M286,-4745.4551C286,-4737.3828 286,-4727.6764 286,-4718.6817\" fill=\"none\" stroke=\"#000000\"/>\n<polygon fill=\"#000000\" points=\"289.5001,-4718.5903 286,-4708.5904 282.5001,-4718.5904 289.5001,-4718.5903\" stroke=\"#000000\"/>\n</g>\n<!-- 140271883598928 -->\n<g class=\"node\" id=\"node8\">\n<title>140271883598928</title>\n<polygon fill=\"none\" points=\"197,-4599.5 197,-4635.5 375,-4635.5 375,-4599.5 197,-4599.5\" stroke=\"#000000\"/>\n<text fill=\"#000000\" font-family=\"Times,serif\" font-size=\"14.00\" text-anchor=\"middle\" x=\"286\" y=\"-4613.8\">leaky_re_lu_2: LeakyReLU</text>\n</g>\n<!-- 140271883599184&#45;&gt;140271883598928 -->\n<g class=\"edge\" id=\"edge7\">\n<title>140271883599184-&gt;140271883598928</title>\n<path d=\"M286,-4672.4551C286,-4664.3828 286,-4654.6764 286,-4645.6817\" fill=\"none\" stroke=\"#000000\"/>\n<polygon fill=\"#000000\" points=\"289.5001,-4645.5903 286,-4635.5904 282.5001,-4645.5904 289.5001,-4645.5903\" stroke=\"#000000\"/>\n</g>\n<!-- 140271883599760 -->\n<g class=\"node\" id=\"node9\">\n<title>140271883599760</title>\n<polygon fill=\"none\" points=\"175.5,-4526.5 175.5,-4562.5 396.5,-4562.5 396.5,-4526.5 175.5,-4526.5\" stroke=\"#000000\"/>\n<text fill=\"#000000\" font-family=\"Times,serif\" font-size=\"14.00\" text-anchor=\"middle\" x=\"286\" y=\"-4540.8\">max_pooling2d_2: MaxPooling2D</text>\n</g>\n<!-- 140271883598928&#45;&gt;140271883599760 -->\n<g class=\"edge\" id=\"edge8\">\n<title>140271883598928-&gt;140271883599760</title>\n<path d=\"M286,-4599.4551C286,-4591.3828 286,-4581.6764 286,-4572.6817\" fill=\"none\" stroke=\"#000000\"/>\n<polygon fill=\"#000000\" points=\"289.5001,-4572.5903 286,-4562.5904 282.5001,-4572.5904 289.5001,-4572.5903\" stroke=\"#000000\"/>\n</g>\n<!-- 140271883768400 -->\n<g class=\"node\" id=\"node10\">\n<title>140271883768400</title>\n<polygon fill=\"none\" points=\"219.5,-4453.5 219.5,-4489.5 352.5,-4489.5 352.5,-4453.5 219.5,-4453.5\" stroke=\"#000000\"/>\n<text fill=\"#000000\" font-family=\"Times,serif\" font-size=\"14.00\" text-anchor=\"middle\" x=\"286\" y=\"-4467.8\">conv2d_3: Conv2D</text>\n</g>\n<!-- 140271883599760&#45;&gt;140271883768400 -->\n<g class=\"edge\" id=\"edge9\">\n<title>140271883599760-&gt;140271883768400</title>\n<path d=\"M286,-4526.4551C286,-4518.3828 286,-4508.6764 286,-4499.6817\" fill=\"none\" stroke=\"#000000\"/>\n<polygon fill=\"#000000\" points=\"289.5001,-4499.5903 286,-4489.5904 282.5001,-4499.5904 289.5001,-4499.5903\" stroke=\"#000000\"/>\n</g>\n<!-- 140271883625040 -->\n<g class=\"node\" id=\"node11\">\n<title>140271883625040</title>\n<polygon fill=\"none\" points=\"150.5,-4380.5 150.5,-4416.5 421.5,-4416.5 421.5,-4380.5 150.5,-4380.5\" stroke=\"#000000\"/>\n<text fill=\"#000000\" font-family=\"Times,serif\" font-size=\"14.00\" text-anchor=\"middle\" x=\"286\" y=\"-4394.8\">batch_normalization_3: BatchNormalization</text>\n</g>\n<!-- 140271883768400&#45;&gt;140271883625040 -->\n<g class=\"edge\" id=\"edge10\">\n<title>140271883768400-&gt;140271883625040</title>\n<path d=\"M286,-4453.4551C286,-4445.3828 286,-4435.6764 286,-4426.6817\" fill=\"none\" stroke=\"#000000\"/>\n<polygon fill=\"#000000\" points=\"289.5001,-4426.5903 286,-4416.5904 282.5001,-4426.5904 289.5001,-4426.5903\" stroke=\"#000000\"/>\n</g>\n<!-- 140271883625808 -->\n<g class=\"node\" id=\"node12\">\n<title>140271883625808</title>\n<polygon fill=\"none\" points=\"197,-4307.5 197,-4343.5 375,-4343.5 375,-4307.5 197,-4307.5\" stroke=\"#000000\"/>\n<text fill=\"#000000\" font-family=\"Times,serif\" font-size=\"14.00\" text-anchor=\"middle\" x=\"286\" y=\"-4321.8\">leaky_re_lu_3: LeakyReLU</text>\n</g>\n<!-- 140271883625040&#45;&gt;140271883625808 -->\n<g class=\"edge\" id=\"edge11\">\n<title>140271883625040-&gt;140271883625808</title>\n<path d=\"M286,-4380.4551C286,-4372.3828 286,-4362.6764 286,-4353.6817\" fill=\"none\" stroke=\"#000000\"/>\n<polygon fill=\"#000000\" points=\"289.5001,-4353.5903 286,-4343.5904 282.5001,-4353.5904 289.5001,-4353.5903\" stroke=\"#000000\"/>\n</g>\n<!-- 140271883625680 -->\n<g class=\"node\" id=\"node13\">\n<title>140271883625680</title>\n<polygon fill=\"none\" points=\"219.5,-4234.5 219.5,-4270.5 352.5,-4270.5 352.5,-4234.5 219.5,-4234.5\" stroke=\"#000000\"/>\n<text fill=\"#000000\" font-family=\"Times,serif\" font-size=\"14.00\" text-anchor=\"middle\" x=\"286\" y=\"-4248.8\">conv2d_4: Conv2D</text>\n</g>\n<!-- 140271883625808&#45;&gt;140271883625680 -->\n<g class=\"edge\" id=\"edge12\">\n<title>140271883625808-&gt;140271883625680</title>\n<path d=\"M286,-4307.4551C286,-4299.3828 286,-4289.6764 286,-4280.6817\" fill=\"none\" stroke=\"#000000\"/>\n<polygon fill=\"#000000\" points=\"289.5001,-4280.5903 286,-4270.5904 282.5001,-4280.5904 289.5001,-4280.5903\" stroke=\"#000000\"/>\n</g>\n<!-- 140271883626000 -->\n<g class=\"node\" id=\"node14\">\n<title>140271883626000</title>\n<polygon fill=\"none\" points=\"150.5,-4161.5 150.5,-4197.5 421.5,-4197.5 421.5,-4161.5 150.5,-4161.5\" stroke=\"#000000\"/>\n<text fill=\"#000000\" font-family=\"Times,serif\" font-size=\"14.00\" text-anchor=\"middle\" x=\"286\" y=\"-4175.8\">batch_normalization_4: BatchNormalization</text>\n</g>\n<!-- 140271883625680&#45;&gt;140271883626000 -->\n<g class=\"edge\" id=\"edge13\">\n<title>140271883625680-&gt;140271883626000</title>\n<path d=\"M286,-4234.4551C286,-4226.3828 286,-4216.6764 286,-4207.6817\" fill=\"none\" stroke=\"#000000\"/>\n<polygon fill=\"#000000\" points=\"289.5001,-4207.5903 286,-4197.5904 282.5001,-4207.5904 289.5001,-4207.5903\" stroke=\"#000000\"/>\n</g>\n<!-- 140271883626768 -->\n<g class=\"node\" id=\"node15\">\n<title>140271883626768</title>\n<polygon fill=\"none\" points=\"197,-4088.5 197,-4124.5 375,-4124.5 375,-4088.5 197,-4088.5\" stroke=\"#000000\"/>\n<text fill=\"#000000\" font-family=\"Times,serif\" font-size=\"14.00\" text-anchor=\"middle\" x=\"286\" y=\"-4102.8\">leaky_re_lu_4: LeakyReLU</text>\n</g>\n<!-- 140271883626000&#45;&gt;140271883626768 -->\n<g class=\"edge\" id=\"edge14\">\n<title>140271883626000-&gt;140271883626768</title>\n<path d=\"M286,-4161.4551C286,-4153.3828 286,-4143.6764 286,-4134.6817\" fill=\"none\" stroke=\"#000000\"/>\n<polygon fill=\"#000000\" points=\"289.5001,-4134.5903 286,-4124.5904 282.5001,-4134.5904 289.5001,-4134.5903\" stroke=\"#000000\"/>\n</g>\n<!-- 140271883626640 -->\n<g class=\"node\" id=\"node16\">\n<title>140271883626640</title>\n<polygon fill=\"none\" points=\"219.5,-4015.5 219.5,-4051.5 352.5,-4051.5 352.5,-4015.5 219.5,-4015.5\" stroke=\"#000000\"/>\n<text fill=\"#000000\" font-family=\"Times,serif\" font-size=\"14.00\" text-anchor=\"middle\" x=\"286\" y=\"-4029.8\">conv2d_5: Conv2D</text>\n</g>\n<!-- 140271883626768&#45;&gt;140271883626640 -->\n<g class=\"edge\" id=\"edge15\">\n<title>140271883626768-&gt;140271883626640</title>\n<path d=\"M286,-4088.4551C286,-4080.3828 286,-4070.6764 286,-4061.6817\" fill=\"none\" stroke=\"#000000\"/>\n<polygon fill=\"#000000\" points=\"289.5001,-4061.5903 286,-4051.5904 282.5001,-4061.5904 289.5001,-4061.5903\" stroke=\"#000000\"/>\n</g>\n<!-- 140271883626960 -->\n<g class=\"node\" id=\"node17\">\n<title>140271883626960</title>\n<polygon fill=\"none\" points=\"150.5,-3942.5 150.5,-3978.5 421.5,-3978.5 421.5,-3942.5 150.5,-3942.5\" stroke=\"#000000\"/>\n<text fill=\"#000000\" font-family=\"Times,serif\" font-size=\"14.00\" text-anchor=\"middle\" x=\"286\" y=\"-3956.8\">batch_normalization_5: BatchNormalization</text>\n</g>\n<!-- 140271883626640&#45;&gt;140271883626960 -->\n<g class=\"edge\" id=\"edge16\">\n<title>140271883626640-&gt;140271883626960</title>\n<path d=\"M286,-4015.4551C286,-4007.3828 286,-3997.6764 286,-3988.6817\" fill=\"none\" stroke=\"#000000\"/>\n<polygon fill=\"#000000\" points=\"289.5001,-3988.5903 286,-3978.5904 282.5001,-3988.5904 289.5001,-3988.5903\" stroke=\"#000000\"/>\n</g>\n<!-- 140271883627728 -->\n<g class=\"node\" id=\"node18\">\n<title>140271883627728</title>\n<polygon fill=\"none\" points=\"197,-3869.5 197,-3905.5 375,-3905.5 375,-3869.5 197,-3869.5\" stroke=\"#000000\"/>\n<text fill=\"#000000\" font-family=\"Times,serif\" font-size=\"14.00\" text-anchor=\"middle\" x=\"286\" y=\"-3883.8\">leaky_re_lu_5: LeakyReLU</text>\n</g>\n<!-- 140271883626960&#45;&gt;140271883627728 -->\n<g class=\"edge\" id=\"edge17\">\n<title>140271883626960-&gt;140271883627728</title>\n<path d=\"M286,-3942.4551C286,-3934.3828 286,-3924.6764 286,-3915.6817\" fill=\"none\" stroke=\"#000000\"/>\n<polygon fill=\"#000000\" points=\"289.5001,-3915.5903 286,-3905.5904 282.5001,-3915.5904 289.5001,-3915.5903\" stroke=\"#000000\"/>\n</g>\n<!-- 140271883627600 -->\n<g class=\"node\" id=\"node19\">\n<title>140271883627600</title>\n<polygon fill=\"none\" points=\"175.5,-3796.5 175.5,-3832.5 396.5,-3832.5 396.5,-3796.5 175.5,-3796.5\" stroke=\"#000000\"/>\n<text fill=\"#000000\" font-family=\"Times,serif\" font-size=\"14.00\" text-anchor=\"middle\" x=\"286\" y=\"-3810.8\">max_pooling2d_3: MaxPooling2D</text>\n</g>\n<!-- 140271883627728&#45;&gt;140271883627600 -->\n<g class=\"edge\" id=\"edge18\">\n<title>140271883627728-&gt;140271883627600</title>\n<path d=\"M286,-3869.4551C286,-3861.3828 286,-3851.6764 286,-3842.6817\" fill=\"none\" stroke=\"#000000\"/>\n<polygon fill=\"#000000\" points=\"289.5001,-3842.5903 286,-3832.5904 282.5001,-3842.5904 289.5001,-3842.5903\" stroke=\"#000000\"/>\n</g>\n<!-- 140271883627856 -->\n<g class=\"node\" id=\"node20\">\n<title>140271883627856</title>\n<polygon fill=\"none\" points=\"219.5,-3723.5 219.5,-3759.5 352.5,-3759.5 352.5,-3723.5 219.5,-3723.5\" stroke=\"#000000\"/>\n<text fill=\"#000000\" font-family=\"Times,serif\" font-size=\"14.00\" text-anchor=\"middle\" x=\"286\" y=\"-3737.8\">conv2d_6: Conv2D</text>\n</g>\n<!-- 140271883627600&#45;&gt;140271883627856 -->\n<g class=\"edge\" id=\"edge19\">\n<title>140271883627600-&gt;140271883627856</title>\n<path d=\"M286,-3796.4551C286,-3788.3828 286,-3778.6764 286,-3769.6817\" fill=\"none\" stroke=\"#000000\"/>\n<polygon fill=\"#000000\" points=\"289.5001,-3769.5903 286,-3759.5904 282.5001,-3769.5904 289.5001,-3769.5903\" stroke=\"#000000\"/>\n</g>\n<!-- 140271883628496 -->\n<g class=\"node\" id=\"node21\">\n<title>140271883628496</title>\n<polygon fill=\"none\" points=\"150.5,-3650.5 150.5,-3686.5 421.5,-3686.5 421.5,-3650.5 150.5,-3650.5\" stroke=\"#000000\"/>\n<text fill=\"#000000\" font-family=\"Times,serif\" font-size=\"14.00\" text-anchor=\"middle\" x=\"286\" y=\"-3664.8\">batch_normalization_6: BatchNormalization</text>\n</g>\n<!-- 140271883627856&#45;&gt;140271883628496 -->\n<g class=\"edge\" id=\"edge20\">\n<title>140271883627856-&gt;140271883628496</title>\n<path d=\"M286,-3723.4551C286,-3715.3828 286,-3705.6764 286,-3696.6817\" fill=\"none\" stroke=\"#000000\"/>\n<polygon fill=\"#000000\" points=\"289.5001,-3696.5903 286,-3686.5904 282.5001,-3696.5904 289.5001,-3696.5903\" stroke=\"#000000\"/>\n</g>\n<!-- 140271883599824 -->\n<g class=\"node\" id=\"node22\">\n<title>140271883599824</title>\n<polygon fill=\"none\" points=\"197,-3577.5 197,-3613.5 375,-3613.5 375,-3577.5 197,-3577.5\" stroke=\"#000000\"/>\n<text fill=\"#000000\" font-family=\"Times,serif\" font-size=\"14.00\" text-anchor=\"middle\" x=\"286\" y=\"-3591.8\">leaky_re_lu_6: LeakyReLU</text>\n</g>\n<!-- 140271883628496&#45;&gt;140271883599824 -->\n<g class=\"edge\" id=\"edge21\">\n<title>140271883628496-&gt;140271883599824</title>\n<path d=\"M286,-3650.4551C286,-3642.3828 286,-3632.6764 286,-3623.6817\" fill=\"none\" stroke=\"#000000\"/>\n<polygon fill=\"#000000\" points=\"289.5001,-3623.5903 286,-3613.5904 282.5001,-3623.5904 289.5001,-3623.5903\" stroke=\"#000000\"/>\n</g>\n<!-- 140271883653392 -->\n<g class=\"node\" id=\"node23\">\n<title>140271883653392</title>\n<polygon fill=\"none\" points=\"219.5,-3504.5 219.5,-3540.5 352.5,-3540.5 352.5,-3504.5 219.5,-3504.5\" stroke=\"#000000\"/>\n<text fill=\"#000000\" font-family=\"Times,serif\" font-size=\"14.00\" text-anchor=\"middle\" x=\"286\" y=\"-3518.8\">conv2d_7: Conv2D</text>\n</g>\n<!-- 140271883599824&#45;&gt;140271883653392 -->\n<g class=\"edge\" id=\"edge22\">\n<title>140271883599824-&gt;140271883653392</title>\n<path d=\"M286,-3577.4551C286,-3569.3828 286,-3559.6764 286,-3550.6817\" fill=\"none\" stroke=\"#000000\"/>\n<polygon fill=\"#000000\" points=\"289.5001,-3550.5903 286,-3540.5904 282.5001,-3550.5904 289.5001,-3550.5903\" stroke=\"#000000\"/>\n</g>\n<!-- 140271883653776 -->\n<g class=\"node\" id=\"node24\">\n<title>140271883653776</title>\n<polygon fill=\"none\" points=\"150.5,-3431.5 150.5,-3467.5 421.5,-3467.5 421.5,-3431.5 150.5,-3431.5\" stroke=\"#000000\"/>\n<text fill=\"#000000\" font-family=\"Times,serif\" font-size=\"14.00\" text-anchor=\"middle\" x=\"286\" y=\"-3445.8\">batch_normalization_7: BatchNormalization</text>\n</g>\n<!-- 140271883653392&#45;&gt;140271883653776 -->\n<g class=\"edge\" id=\"edge23\">\n<title>140271883653392-&gt;140271883653776</title>\n<path d=\"M286,-3504.4551C286,-3496.3828 286,-3486.6764 286,-3477.6817\" fill=\"none\" stroke=\"#000000\"/>\n<polygon fill=\"#000000\" points=\"289.5001,-3477.5903 286,-3467.5904 282.5001,-3477.5904 289.5001,-3477.5903\" stroke=\"#000000\"/>\n</g>\n<!-- 140271883654544 -->\n<g class=\"node\" id=\"node25\">\n<title>140271883654544</title>\n<polygon fill=\"none\" points=\"197,-3358.5 197,-3394.5 375,-3394.5 375,-3358.5 197,-3358.5\" stroke=\"#000000\"/>\n<text fill=\"#000000\" font-family=\"Times,serif\" font-size=\"14.00\" text-anchor=\"middle\" x=\"286\" y=\"-3372.8\">leaky_re_lu_7: LeakyReLU</text>\n</g>\n<!-- 140271883653776&#45;&gt;140271883654544 -->\n<g class=\"edge\" id=\"edge24\">\n<title>140271883653776-&gt;140271883654544</title>\n<path d=\"M286,-3431.4551C286,-3423.3828 286,-3413.6764 286,-3404.6817\" fill=\"none\" stroke=\"#000000\"/>\n<polygon fill=\"#000000\" points=\"289.5001,-3404.5903 286,-3394.5904 282.5001,-3404.5904 289.5001,-3404.5903\" stroke=\"#000000\"/>\n</g>\n<!-- 140271883654416 -->\n<g class=\"node\" id=\"node26\">\n<title>140271883654416</title>\n<polygon fill=\"none\" points=\"219.5,-3285.5 219.5,-3321.5 352.5,-3321.5 352.5,-3285.5 219.5,-3285.5\" stroke=\"#000000\"/>\n<text fill=\"#000000\" font-family=\"Times,serif\" font-size=\"14.00\" text-anchor=\"middle\" x=\"286\" y=\"-3299.8\">conv2d_8: Conv2D</text>\n</g>\n<!-- 140271883654544&#45;&gt;140271883654416 -->\n<g class=\"edge\" id=\"edge25\">\n<title>140271883654544-&gt;140271883654416</title>\n<path d=\"M286,-3358.4551C286,-3350.3828 286,-3340.6764 286,-3331.6817\" fill=\"none\" stroke=\"#000000\"/>\n<polygon fill=\"#000000\" points=\"289.5001,-3331.5903 286,-3321.5904 282.5001,-3331.5904 289.5001,-3331.5903\" stroke=\"#000000\"/>\n</g>\n<!-- 140271883654736 -->\n<g class=\"node\" id=\"node27\">\n<title>140271883654736</title>\n<polygon fill=\"none\" points=\"150.5,-3212.5 150.5,-3248.5 421.5,-3248.5 421.5,-3212.5 150.5,-3212.5\" stroke=\"#000000\"/>\n<text fill=\"#000000\" font-family=\"Times,serif\" font-size=\"14.00\" text-anchor=\"middle\" x=\"286\" y=\"-3226.8\">batch_normalization_8: BatchNormalization</text>\n</g>\n<!-- 140271883654416&#45;&gt;140271883654736 -->\n<g class=\"edge\" id=\"edge26\">\n<title>140271883654416-&gt;140271883654736</title>\n<path d=\"M286,-3285.4551C286,-3277.3828 286,-3267.6764 286,-3258.6817\" fill=\"none\" stroke=\"#000000\"/>\n<polygon fill=\"#000000\" points=\"289.5001,-3258.5903 286,-3248.5904 282.5001,-3258.5904 289.5001,-3258.5903\" stroke=\"#000000\"/>\n</g>\n<!-- 140271883655504 -->\n<g class=\"node\" id=\"node28\">\n<title>140271883655504</title>\n<polygon fill=\"none\" points=\"197,-3139.5 197,-3175.5 375,-3175.5 375,-3139.5 197,-3139.5\" stroke=\"#000000\"/>\n<text fill=\"#000000\" font-family=\"Times,serif\" font-size=\"14.00\" text-anchor=\"middle\" x=\"286\" y=\"-3153.8\">leaky_re_lu_8: LeakyReLU</text>\n</g>\n<!-- 140271883654736&#45;&gt;140271883655504 -->\n<g class=\"edge\" id=\"edge27\">\n<title>140271883654736-&gt;140271883655504</title>\n<path d=\"M286,-3212.4551C286,-3204.3828 286,-3194.6764 286,-3185.6817\" fill=\"none\" stroke=\"#000000\"/>\n<polygon fill=\"#000000\" points=\"289.5001,-3185.5903 286,-3175.5904 282.5001,-3185.5904 289.5001,-3185.5903\" stroke=\"#000000\"/>\n</g>\n<!-- 140271883655376 -->\n<g class=\"node\" id=\"node29\">\n<title>140271883655376</title>\n<polygon fill=\"none\" points=\"175.5,-3066.5 175.5,-3102.5 396.5,-3102.5 396.5,-3066.5 175.5,-3066.5\" stroke=\"#000000\"/>\n<text fill=\"#000000\" font-family=\"Times,serif\" font-size=\"14.00\" text-anchor=\"middle\" x=\"286\" y=\"-3080.8\">max_pooling2d_4: MaxPooling2D</text>\n</g>\n<!-- 140271883655504&#45;&gt;140271883655376 -->\n<g class=\"edge\" id=\"edge28\">\n<title>140271883655504-&gt;140271883655376</title>\n<path d=\"M286,-3139.4551C286,-3131.3828 286,-3121.6764 286,-3112.6817\" fill=\"none\" stroke=\"#000000\"/>\n<polygon fill=\"#000000\" points=\"289.5001,-3112.5903 286,-3102.5904 282.5001,-3112.5904 289.5001,-3112.5903\" stroke=\"#000000\"/>\n</g>\n<!-- 140271883655632 -->\n<g class=\"node\" id=\"node30\">\n<title>140271883655632</title>\n<polygon fill=\"none\" points=\"219.5,-2993.5 219.5,-3029.5 352.5,-3029.5 352.5,-2993.5 219.5,-2993.5\" stroke=\"#000000\"/>\n<text fill=\"#000000\" font-family=\"Times,serif\" font-size=\"14.00\" text-anchor=\"middle\" x=\"286\" y=\"-3007.8\">conv2d_9: Conv2D</text>\n</g>\n<!-- 140271883655376&#45;&gt;140271883655632 -->\n<g class=\"edge\" id=\"edge29\">\n<title>140271883655376-&gt;140271883655632</title>\n<path d=\"M286,-3066.4551C286,-3058.3828 286,-3048.6764 286,-3039.6817\" fill=\"none\" stroke=\"#000000\"/>\n<polygon fill=\"#000000\" points=\"289.5001,-3039.5903 286,-3029.5904 282.5001,-3039.5904 289.5001,-3039.5903\" stroke=\"#000000\"/>\n</g>\n<!-- 140271883655952 -->\n<g class=\"node\" id=\"node31\">\n<title>140271883655952</title>\n<polygon fill=\"none\" points=\"150.5,-2920.5 150.5,-2956.5 421.5,-2956.5 421.5,-2920.5 150.5,-2920.5\" stroke=\"#000000\"/>\n<text fill=\"#000000\" font-family=\"Times,serif\" font-size=\"14.00\" text-anchor=\"middle\" x=\"286\" y=\"-2934.8\">batch_normalization_9: BatchNormalization</text>\n</g>\n<!-- 140271883655632&#45;&gt;140271883655952 -->\n<g class=\"edge\" id=\"edge30\">\n<title>140271883655632-&gt;140271883655952</title>\n<path d=\"M286,-2993.4551C286,-2985.3828 286,-2975.6764 286,-2966.6817\" fill=\"none\" stroke=\"#000000\"/>\n<polygon fill=\"#000000\" points=\"289.5001,-2966.5903 286,-2956.5904 282.5001,-2966.5904 289.5001,-2966.5903\" stroke=\"#000000\"/>\n</g>\n<!-- 140271883656720 -->\n<g class=\"node\" id=\"node32\">\n<title>140271883656720</title>\n<polygon fill=\"none\" points=\"197,-2847.5 197,-2883.5 375,-2883.5 375,-2847.5 197,-2847.5\" stroke=\"#000000\"/>\n<text fill=\"#000000\" font-family=\"Times,serif\" font-size=\"14.00\" text-anchor=\"middle\" x=\"286\" y=\"-2861.8\">leaky_re_lu_9: LeakyReLU</text>\n</g>\n<!-- 140271883655952&#45;&gt;140271883656720 -->\n<g class=\"edge\" id=\"edge31\">\n<title>140271883655952-&gt;140271883656720</title>\n<path d=\"M286,-2920.4551C286,-2912.3828 286,-2902.6764 286,-2893.6817\" fill=\"none\" stroke=\"#000000\"/>\n<polygon fill=\"#000000\" points=\"289.5001,-2893.5903 286,-2883.5904 282.5001,-2893.5904 289.5001,-2893.5903\" stroke=\"#000000\"/>\n</g>\n<!-- 140271883656592 -->\n<g class=\"node\" id=\"node33\">\n<title>140271883656592</title>\n<polygon fill=\"none\" points=\"216,-2774.5 216,-2810.5 356,-2810.5 356,-2774.5 216,-2774.5\" stroke=\"#000000\"/>\n<text fill=\"#000000\" font-family=\"Times,serif\" font-size=\"14.00\" text-anchor=\"middle\" x=\"286\" y=\"-2788.8\">conv2d_10: Conv2D</text>\n</g>\n<!-- 140271883656720&#45;&gt;140271883656592 -->\n<g class=\"edge\" id=\"edge32\">\n<title>140271883656720-&gt;140271883656592</title>\n<path d=\"M286,-2847.4551C286,-2839.3828 286,-2829.6764 286,-2820.6817\" fill=\"none\" stroke=\"#000000\"/>\n<polygon fill=\"#000000\" points=\"289.5001,-2820.5903 286,-2810.5904 282.5001,-2820.5904 289.5001,-2820.5903\" stroke=\"#000000\"/>\n</g>\n<!-- 140271883657104 -->\n<g class=\"node\" id=\"node34\">\n<title>140271883657104</title>\n<polygon fill=\"none\" points=\"147,-2701.5 147,-2737.5 425,-2737.5 425,-2701.5 147,-2701.5\" stroke=\"#000000\"/>\n<text fill=\"#000000\" font-family=\"Times,serif\" font-size=\"14.00\" text-anchor=\"middle\" x=\"286\" y=\"-2715.8\">batch_normalization_10: BatchNormalization</text>\n</g>\n<!-- 140271883656592&#45;&gt;140271883657104 -->\n<g class=\"edge\" id=\"edge33\">\n<title>140271883656592-&gt;140271883657104</title>\n<path d=\"M286,-2774.4551C286,-2766.3828 286,-2756.6764 286,-2747.6817\" fill=\"none\" stroke=\"#000000\"/>\n<polygon fill=\"#000000\" points=\"289.5001,-2747.5903 286,-2737.5904 282.5001,-2747.5904 289.5001,-2747.5903\" stroke=\"#000000\"/>\n</g>\n<!-- 140271883628112 -->\n<g class=\"node\" id=\"node35\">\n<title>140271883628112</title>\n<polygon fill=\"none\" points=\"193.5,-2628.5 193.5,-2664.5 378.5,-2664.5 378.5,-2628.5 193.5,-2628.5\" stroke=\"#000000\"/>\n<text fill=\"#000000\" font-family=\"Times,serif\" font-size=\"14.00\" text-anchor=\"middle\" x=\"286\" y=\"-2642.8\">leaky_re_lu_10: LeakyReLU</text>\n</g>\n<!-- 140271883657104&#45;&gt;140271883628112 -->\n<g class=\"edge\" id=\"edge34\">\n<title>140271883657104-&gt;140271883628112</title>\n<path d=\"M286,-2701.4551C286,-2693.3828 286,-2683.6764 286,-2674.6817\" fill=\"none\" stroke=\"#000000\"/>\n<polygon fill=\"#000000\" points=\"289.5001,-2674.5903 286,-2664.5904 282.5001,-2674.5904 289.5001,-2674.5903\" stroke=\"#000000\"/>\n</g>\n<!-- 140271883677840 -->\n<g class=\"node\" id=\"node36\">\n<title>140271883677840</title>\n<polygon fill=\"none\" points=\"216,-2555.5 216,-2591.5 356,-2591.5 356,-2555.5 216,-2555.5\" stroke=\"#000000\"/>\n<text fill=\"#000000\" font-family=\"Times,serif\" font-size=\"14.00\" text-anchor=\"middle\" x=\"286\" y=\"-2569.8\">conv2d_11: Conv2D</text>\n</g>\n<!-- 140271883628112&#45;&gt;140271883677840 -->\n<g class=\"edge\" id=\"edge35\">\n<title>140271883628112-&gt;140271883677840</title>\n<path d=\"M286,-2628.4551C286,-2620.3828 286,-2610.6764 286,-2601.6817\" fill=\"none\" stroke=\"#000000\"/>\n<polygon fill=\"#000000\" points=\"289.5001,-2601.5903 286,-2591.5904 282.5001,-2601.5904 289.5001,-2601.5903\" stroke=\"#000000\"/>\n</g>\n<!-- 140271883678416 -->\n<g class=\"node\" id=\"node37\">\n<title>140271883678416</title>\n<polygon fill=\"none\" points=\"147,-2482.5 147,-2518.5 425,-2518.5 425,-2482.5 147,-2482.5\" stroke=\"#000000\"/>\n<text fill=\"#000000\" font-family=\"Times,serif\" font-size=\"14.00\" text-anchor=\"middle\" x=\"286\" y=\"-2496.8\">batch_normalization_11: BatchNormalization</text>\n</g>\n<!-- 140271883677840&#45;&gt;140271883678416 -->\n<g class=\"edge\" id=\"edge36\">\n<title>140271883677840-&gt;140271883678416</title>\n<path d=\"M286,-2555.4551C286,-2547.3828 286,-2537.6764 286,-2528.6817\" fill=\"none\" stroke=\"#000000\"/>\n<polygon fill=\"#000000\" points=\"289.5001,-2528.5903 286,-2518.5904 282.5001,-2528.5904 289.5001,-2528.5903\" stroke=\"#000000\"/>\n</g>\n<!-- 140271883679184 -->\n<g class=\"node\" id=\"node38\">\n<title>140271883679184</title>\n<polygon fill=\"none\" points=\"193.5,-2409.5 193.5,-2445.5 378.5,-2445.5 378.5,-2409.5 193.5,-2409.5\" stroke=\"#000000\"/>\n<text fill=\"#000000\" font-family=\"Times,serif\" font-size=\"14.00\" text-anchor=\"middle\" x=\"286\" y=\"-2423.8\">leaky_re_lu_11: LeakyReLU</text>\n</g>\n<!-- 140271883678416&#45;&gt;140271883679184 -->\n<g class=\"edge\" id=\"edge37\">\n<title>140271883678416-&gt;140271883679184</title>\n<path d=\"M286,-2482.4551C286,-2474.3828 286,-2464.6764 286,-2455.6817\" fill=\"none\" stroke=\"#000000\"/>\n<polygon fill=\"#000000\" points=\"289.5001,-2455.5903 286,-2445.5904 282.5001,-2455.5904 289.5001,-2455.5903\" stroke=\"#000000\"/>\n</g>\n<!-- 140271883679056 -->\n<g class=\"node\" id=\"node39\">\n<title>140271883679056</title>\n<polygon fill=\"none\" points=\"216,-2336.5 216,-2372.5 356,-2372.5 356,-2336.5 216,-2336.5\" stroke=\"#000000\"/>\n<text fill=\"#000000\" font-family=\"Times,serif\" font-size=\"14.00\" text-anchor=\"middle\" x=\"286\" y=\"-2350.8\">conv2d_12: Conv2D</text>\n</g>\n<!-- 140271883679184&#45;&gt;140271883679056 -->\n<g class=\"edge\" id=\"edge38\">\n<title>140271883679184-&gt;140271883679056</title>\n<path d=\"M286,-2409.4551C286,-2401.3828 286,-2391.6764 286,-2382.6817\" fill=\"none\" stroke=\"#000000\"/>\n<polygon fill=\"#000000\" points=\"289.5001,-2382.5903 286,-2372.5904 282.5001,-2382.5904 289.5001,-2382.5903\" stroke=\"#000000\"/>\n</g>\n<!-- 140271883679376 -->\n<g class=\"node\" id=\"node40\">\n<title>140271883679376</title>\n<polygon fill=\"none\" points=\"147,-2263.5 147,-2299.5 425,-2299.5 425,-2263.5 147,-2263.5\" stroke=\"#000000\"/>\n<text fill=\"#000000\" font-family=\"Times,serif\" font-size=\"14.00\" text-anchor=\"middle\" x=\"286\" y=\"-2277.8\">batch_normalization_12: BatchNormalization</text>\n</g>\n<!-- 140271883679056&#45;&gt;140271883679376 -->\n<g class=\"edge\" id=\"edge39\">\n<title>140271883679056-&gt;140271883679376</title>\n<path d=\"M286,-2336.4551C286,-2328.3828 286,-2318.6764 286,-2309.6817\" fill=\"none\" stroke=\"#000000\"/>\n<polygon fill=\"#000000\" points=\"289.5001,-2309.5903 286,-2299.5904 282.5001,-2309.5904 289.5001,-2309.5903\" stroke=\"#000000\"/>\n</g>\n<!-- 140271883680144 -->\n<g class=\"node\" id=\"node41\">\n<title>140271883680144</title>\n<polygon fill=\"none\" points=\"193.5,-2190.5 193.5,-2226.5 378.5,-2226.5 378.5,-2190.5 193.5,-2190.5\" stroke=\"#000000\"/>\n<text fill=\"#000000\" font-family=\"Times,serif\" font-size=\"14.00\" text-anchor=\"middle\" x=\"286\" y=\"-2204.8\">leaky_re_lu_12: LeakyReLU</text>\n</g>\n<!-- 140271883679376&#45;&gt;140271883680144 -->\n<g class=\"edge\" id=\"edge40\">\n<title>140271883679376-&gt;140271883680144</title>\n<path d=\"M286,-2263.4551C286,-2255.3828 286,-2245.6764 286,-2236.6817\" fill=\"none\" stroke=\"#000000\"/>\n<polygon fill=\"#000000\" points=\"289.5001,-2236.5903 286,-2226.5904 282.5001,-2236.5904 289.5001,-2236.5903\" stroke=\"#000000\"/>\n</g>\n<!-- 140271883680016 -->\n<g class=\"node\" id=\"node42\">\n<title>140271883680016</title>\n<polygon fill=\"none\" points=\"216,-2117.5 216,-2153.5 356,-2153.5 356,-2117.5 216,-2117.5\" stroke=\"#000000\"/>\n<text fill=\"#000000\" font-family=\"Times,serif\" font-size=\"14.00\" text-anchor=\"middle\" x=\"286\" y=\"-2131.8\">conv2d_13: Conv2D</text>\n</g>\n<!-- 140271883680144&#45;&gt;140271883680016 -->\n<g class=\"edge\" id=\"edge41\">\n<title>140271883680144-&gt;140271883680016</title>\n<path d=\"M286,-2190.4551C286,-2182.3828 286,-2172.6764 286,-2163.6817\" fill=\"none\" stroke=\"#000000\"/>\n<polygon fill=\"#000000\" points=\"289.5001,-2163.5903 286,-2153.5904 282.5001,-2163.5904 289.5001,-2163.5903\" stroke=\"#000000\"/>\n</g>\n<!-- 140271883680336 -->\n<g class=\"node\" id=\"node43\">\n<title>140271883680336</title>\n<polygon fill=\"none\" points=\"147,-2044.5 147,-2080.5 425,-2080.5 425,-2044.5 147,-2044.5\" stroke=\"#000000\"/>\n<text fill=\"#000000\" font-family=\"Times,serif\" font-size=\"14.00\" text-anchor=\"middle\" x=\"286\" y=\"-2058.8\">batch_normalization_13: BatchNormalization</text>\n</g>\n<!-- 140271883680016&#45;&gt;140271883680336 -->\n<g class=\"edge\" id=\"edge42\">\n<title>140271883680016-&gt;140271883680336</title>\n<path d=\"M286,-2117.4551C286,-2109.3828 286,-2099.6764 286,-2090.6817\" fill=\"none\" stroke=\"#000000\"/>\n<polygon fill=\"#000000\" points=\"289.5001,-2090.5903 286,-2080.5904 282.5001,-2090.5904 289.5001,-2090.5903\" stroke=\"#000000\"/>\n</g>\n<!-- 140271883681104 -->\n<g class=\"node\" id=\"node44\">\n<title>140271883681104</title>\n<polygon fill=\"none\" points=\"193.5,-1971.5 193.5,-2007.5 378.5,-2007.5 378.5,-1971.5 193.5,-1971.5\" stroke=\"#000000\"/>\n<text fill=\"#000000\" font-family=\"Times,serif\" font-size=\"14.00\" text-anchor=\"middle\" x=\"286\" y=\"-1985.8\">leaky_re_lu_13: LeakyReLU</text>\n</g>\n<!-- 140271883680336&#45;&gt;140271883681104 -->\n<g class=\"edge\" id=\"edge43\">\n<title>140271883680336-&gt;140271883681104</title>\n<path d=\"M286,-2044.4551C286,-2036.3828 286,-2026.6764 286,-2017.6817\" fill=\"none\" stroke=\"#000000\"/>\n<polygon fill=\"#000000\" points=\"289.5001,-2017.5903 286,-2007.5904 282.5001,-2017.5904 289.5001,-2017.5903\" stroke=\"#000000\"/>\n</g>\n<!-- 140271883680976 -->\n<g class=\"node\" id=\"node45\">\n<title>140271883680976</title>\n<polygon fill=\"none\" points=\"106.5,-1898.5 106.5,-1934.5 327.5,-1934.5 327.5,-1898.5 106.5,-1898.5\" stroke=\"#000000\"/>\n<text fill=\"#000000\" font-family=\"Times,serif\" font-size=\"14.00\" text-anchor=\"middle\" x=\"217\" y=\"-1912.8\">max_pooling2d_5: MaxPooling2D</text>\n</g>\n<!-- 140271883681104&#45;&gt;140271883680976 -->\n<g class=\"edge\" id=\"edge44\">\n<title>140271883681104-&gt;140271883680976</title>\n<path d=\"M268.9438,-1971.4551C260.5675,-1962.5932 250.3295,-1951.7616 241.1638,-1942.0646\" fill=\"none\" stroke=\"#000000\"/>\n<polygon fill=\"#000000\" points=\"243.5119,-1939.4535 234.0991,-1934.5904 238.4247,-1944.262 243.5119,-1939.4535\" stroke=\"#000000\"/>\n</g>\n<!-- 140271883732304 -->\n<g class=\"node\" id=\"node63\">\n<title>140271883732304</title>\n<polygon fill=\"none\" points=\"330,-1825.5 330,-1861.5 470,-1861.5 470,-1825.5 330,-1825.5\" stroke=\"#000000\"/>\n<text fill=\"#000000\" font-family=\"Times,serif\" font-size=\"14.00\" text-anchor=\"middle\" x=\"400\" y=\"-1839.8\">conv2d_21: Conv2D</text>\n</g>\n<!-- 140271883681104&#45;&gt;140271883732304 -->\n<g class=\"edge\" id=\"edge62\">\n<title>140271883681104-&gt;140271883732304</title>\n<path d=\"M303.7511,-1971.3724C313.6019,-1961.017 325.8726,-1947.6173 336,-1935 352.8937,-1913.9529 370.3406,-1888.7371 382.7428,-1870.1111\" fill=\"none\" stroke=\"#000000\"/>\n<polygon fill=\"#000000\" points=\"385.8105,-1871.8172 388.4014,-1861.544 379.9696,-1867.9592 385.8105,-1871.8172\" stroke=\"#000000\"/>\n</g>\n<!-- 140271883681232 -->\n<g class=\"node\" id=\"node46\">\n<title>140271883681232</title>\n<polygon fill=\"none\" points=\"138,-1825.5 138,-1861.5 278,-1861.5 278,-1825.5 138,-1825.5\" stroke=\"#000000\"/>\n<text fill=\"#000000\" font-family=\"Times,serif\" font-size=\"14.00\" text-anchor=\"middle\" x=\"208\" y=\"-1839.8\">conv2d_14: Conv2D</text>\n</g>\n<!-- 140271883680976&#45;&gt;140271883681232 -->\n<g class=\"edge\" id=\"edge45\">\n<title>140271883680976-&gt;140271883681232</title>\n<path d=\"M214.7753,-1898.4551C213.7801,-1890.3828 212.5834,-1880.6764 211.4745,-1871.6817\" fill=\"none\" stroke=\"#000000\"/>\n<polygon fill=\"#000000\" points=\"214.9277,-1871.0869 210.2303,-1861.5904 207.9803,-1871.9435 214.9277,-1871.0869\" stroke=\"#000000\"/>\n</g>\n<!-- 140271883655696 -->\n<g class=\"node\" id=\"node47\">\n<title>140271883655696</title>\n<polygon fill=\"none\" points=\"0,-1752.5 0,-1788.5 278,-1788.5 278,-1752.5 0,-1752.5\" stroke=\"#000000\"/>\n<text fill=\"#000000\" font-family=\"Times,serif\" font-size=\"14.00\" text-anchor=\"middle\" x=\"139\" y=\"-1766.8\">batch_normalization_14: BatchNormalization</text>\n</g>\n<!-- 140271883681232&#45;&gt;140271883655696 -->\n<g class=\"edge\" id=\"edge46\">\n<title>140271883681232-&gt;140271883655696</title>\n<path d=\"M190.9438,-1825.4551C182.5675,-1816.5932 172.3295,-1805.7616 163.1638,-1796.0646\" fill=\"none\" stroke=\"#000000\"/>\n<polygon fill=\"#000000\" points=\"165.5119,-1793.4535 156.0991,-1788.5904 160.4247,-1798.262 165.5119,-1793.4535\" stroke=\"#000000\"/>\n</g>\n<!-- 140271883711056 -->\n<g class=\"node\" id=\"node48\">\n<title>140271883711056</title>\n<polygon fill=\"none\" points=\"92.5,-1679.5 92.5,-1715.5 277.5,-1715.5 277.5,-1679.5 92.5,-1679.5\" stroke=\"#000000\"/>\n<text fill=\"#000000\" font-family=\"Times,serif\" font-size=\"14.00\" text-anchor=\"middle\" x=\"185\" y=\"-1693.8\">leaky_re_lu_14: LeakyReLU</text>\n</g>\n<!-- 140271883655696&#45;&gt;140271883711056 -->\n<g class=\"edge\" id=\"edge47\">\n<title>140271883655696-&gt;140271883711056</title>\n<path d=\"M150.3708,-1752.4551C155.7338,-1743.9441 162.2417,-1733.6165 168.1615,-1724.2219\" fill=\"none\" stroke=\"#000000\"/>\n<polygon fill=\"#000000\" points=\"171.2305,-1725.9167 173.6006,-1715.5904 165.3082,-1722.1848 171.2305,-1725.9167\" stroke=\"#000000\"/>\n</g>\n<!-- 140271883710928 -->\n<g class=\"node\" id=\"node49\">\n<title>140271883710928</title>\n<polygon fill=\"none\" points=\"126,-1606.5 126,-1642.5 266,-1642.5 266,-1606.5 126,-1606.5\" stroke=\"#000000\"/>\n<text fill=\"#000000\" font-family=\"Times,serif\" font-size=\"14.00\" text-anchor=\"middle\" x=\"196\" y=\"-1620.8\">conv2d_15: Conv2D</text>\n</g>\n<!-- 140271883711056&#45;&gt;140271883710928 -->\n<g class=\"edge\" id=\"edge48\">\n<title>140271883711056-&gt;140271883710928</title>\n<path d=\"M187.7191,-1679.4551C188.9355,-1671.3828 190.3981,-1661.6764 191.7534,-1652.6817\" fill=\"none\" stroke=\"#000000\"/>\n<polygon fill=\"#000000\" points=\"195.2449,-1653.0003 193.2741,-1642.5904 188.323,-1651.9572 195.2449,-1653.0003\" stroke=\"#000000\"/>\n</g>\n<!-- 140271883711248 -->\n<g class=\"node\" id=\"node50\">\n<title>140271883711248</title>\n<polygon fill=\"none\" points=\"57,-1533.5 57,-1569.5 335,-1569.5 335,-1533.5 57,-1533.5\" stroke=\"#000000\"/>\n<text fill=\"#000000\" font-family=\"Times,serif\" font-size=\"14.00\" text-anchor=\"middle\" x=\"196\" y=\"-1547.8\">batch_normalization_15: BatchNormalization</text>\n</g>\n<!-- 140271883710928&#45;&gt;140271883711248 -->\n<g class=\"edge\" id=\"edge49\">\n<title>140271883710928-&gt;140271883711248</title>\n<path d=\"M196,-1606.4551C196,-1598.3828 196,-1588.6764 196,-1579.6817\" fill=\"none\" stroke=\"#000000\"/>\n<polygon fill=\"#000000\" points=\"199.5001,-1579.5903 196,-1569.5904 192.5001,-1579.5904 199.5001,-1579.5903\" stroke=\"#000000\"/>\n</g>\n<!-- 140271883712016 -->\n<g class=\"node\" id=\"node51\">\n<title>140271883712016</title>\n<polygon fill=\"none\" points=\"103.5,-1460.5 103.5,-1496.5 288.5,-1496.5 288.5,-1460.5 103.5,-1460.5\" stroke=\"#000000\"/>\n<text fill=\"#000000\" font-family=\"Times,serif\" font-size=\"14.00\" text-anchor=\"middle\" x=\"196\" y=\"-1474.8\">leaky_re_lu_15: LeakyReLU</text>\n</g>\n<!-- 140271883711248&#45;&gt;140271883712016 -->\n<g class=\"edge\" id=\"edge50\">\n<title>140271883711248-&gt;140271883712016</title>\n<path d=\"M196,-1533.4551C196,-1525.3828 196,-1515.6764 196,-1506.6817\" fill=\"none\" stroke=\"#000000\"/>\n<polygon fill=\"#000000\" points=\"199.5001,-1506.5903 196,-1496.5904 192.5001,-1506.5904 199.5001,-1506.5903\" stroke=\"#000000\"/>\n</g>\n<!-- 140271883711888 -->\n<g class=\"node\" id=\"node52\">\n<title>140271883711888</title>\n<polygon fill=\"none\" points=\"126,-1387.5 126,-1423.5 266,-1423.5 266,-1387.5 126,-1387.5\" stroke=\"#000000\"/>\n<text fill=\"#000000\" font-family=\"Times,serif\" font-size=\"14.00\" text-anchor=\"middle\" x=\"196\" y=\"-1401.8\">conv2d_16: Conv2D</text>\n</g>\n<!-- 140271883712016&#45;&gt;140271883711888 -->\n<g class=\"edge\" id=\"edge51\">\n<title>140271883712016-&gt;140271883711888</title>\n<path d=\"M196,-1460.4551C196,-1452.3828 196,-1442.6764 196,-1433.6817\" fill=\"none\" stroke=\"#000000\"/>\n<polygon fill=\"#000000\" points=\"199.5001,-1433.5903 196,-1423.5904 192.5001,-1433.5904 199.5001,-1433.5903\" stroke=\"#000000\"/>\n</g>\n<!-- 140271883712208 -->\n<g class=\"node\" id=\"node53\">\n<title>140271883712208</title>\n<polygon fill=\"none\" points=\"57,-1314.5 57,-1350.5 335,-1350.5 335,-1314.5 57,-1314.5\" stroke=\"#000000\"/>\n<text fill=\"#000000\" font-family=\"Times,serif\" font-size=\"14.00\" text-anchor=\"middle\" x=\"196\" y=\"-1328.8\">batch_normalization_16: BatchNormalization</text>\n</g>\n<!-- 140271883711888&#45;&gt;140271883712208 -->\n<g class=\"edge\" id=\"edge52\">\n<title>140271883711888-&gt;140271883712208</title>\n<path d=\"M196,-1387.4551C196,-1379.3828 196,-1369.6764 196,-1360.6817\" fill=\"none\" stroke=\"#000000\"/>\n<polygon fill=\"#000000\" points=\"199.5001,-1360.5903 196,-1350.5904 192.5001,-1360.5904 199.5001,-1360.5903\" stroke=\"#000000\"/>\n</g>\n<!-- 140271883712976 -->\n<g class=\"node\" id=\"node54\">\n<title>140271883712976</title>\n<polygon fill=\"none\" points=\"103.5,-1241.5 103.5,-1277.5 288.5,-1277.5 288.5,-1241.5 103.5,-1241.5\" stroke=\"#000000\"/>\n<text fill=\"#000000\" font-family=\"Times,serif\" font-size=\"14.00\" text-anchor=\"middle\" x=\"196\" y=\"-1255.8\">leaky_re_lu_16: LeakyReLU</text>\n</g>\n<!-- 140271883712208&#45;&gt;140271883712976 -->\n<g class=\"edge\" id=\"edge53\">\n<title>140271883712208-&gt;140271883712976</title>\n<path d=\"M196,-1314.4551C196,-1306.3828 196,-1296.6764 196,-1287.6817\" fill=\"none\" stroke=\"#000000\"/>\n<polygon fill=\"#000000\" points=\"199.5001,-1287.5903 196,-1277.5904 192.5001,-1287.5904 199.5001,-1287.5903\" stroke=\"#000000\"/>\n</g>\n<!-- 140271883712848 -->\n<g class=\"node\" id=\"node55\">\n<title>140271883712848</title>\n<polygon fill=\"none\" points=\"126,-1168.5 126,-1204.5 266,-1204.5 266,-1168.5 126,-1168.5\" stroke=\"#000000\"/>\n<text fill=\"#000000\" font-family=\"Times,serif\" font-size=\"14.00\" text-anchor=\"middle\" x=\"196\" y=\"-1182.8\">conv2d_17: Conv2D</text>\n</g>\n<!-- 140271883712976&#45;&gt;140271883712848 -->\n<g class=\"edge\" id=\"edge54\">\n<title>140271883712976-&gt;140271883712848</title>\n<path d=\"M196,-1241.4551C196,-1233.3828 196,-1223.6764 196,-1214.6817\" fill=\"none\" stroke=\"#000000\"/>\n<polygon fill=\"#000000\" points=\"199.5001,-1214.5903 196,-1204.5904 192.5001,-1214.5904 199.5001,-1214.5903\" stroke=\"#000000\"/>\n</g>\n<!-- 140271883713168 -->\n<g class=\"node\" id=\"node56\">\n<title>140271883713168</title>\n<polygon fill=\"none\" points=\"57,-1095.5 57,-1131.5 335,-1131.5 335,-1095.5 57,-1095.5\" stroke=\"#000000\"/>\n<text fill=\"#000000\" font-family=\"Times,serif\" font-size=\"14.00\" text-anchor=\"middle\" x=\"196\" y=\"-1109.8\">batch_normalization_17: BatchNormalization</text>\n</g>\n<!-- 140271883712848&#45;&gt;140271883713168 -->\n<g class=\"edge\" id=\"edge55\">\n<title>140271883712848-&gt;140271883713168</title>\n<path d=\"M196,-1168.4551C196,-1160.3828 196,-1150.6764 196,-1141.6817\" fill=\"none\" stroke=\"#000000\"/>\n<polygon fill=\"#000000\" points=\"199.5001,-1141.5903 196,-1131.5904 192.5001,-1141.5904 199.5001,-1141.5903\" stroke=\"#000000\"/>\n</g>\n<!-- 140271883713936 -->\n<g class=\"node\" id=\"node57\">\n<title>140271883713936</title>\n<polygon fill=\"none\" points=\"103.5,-1022.5 103.5,-1058.5 288.5,-1058.5 288.5,-1022.5 103.5,-1022.5\" stroke=\"#000000\"/>\n<text fill=\"#000000\" font-family=\"Times,serif\" font-size=\"14.00\" text-anchor=\"middle\" x=\"196\" y=\"-1036.8\">leaky_re_lu_17: LeakyReLU</text>\n</g>\n<!-- 140271883713168&#45;&gt;140271883713936 -->\n<g class=\"edge\" id=\"edge56\">\n<title>140271883713168-&gt;140271883713936</title>\n<path d=\"M196,-1095.4551C196,-1087.3828 196,-1077.6764 196,-1068.6817\" fill=\"none\" stroke=\"#000000\"/>\n<polygon fill=\"#000000\" points=\"199.5001,-1068.5903 196,-1058.5904 192.5001,-1068.5904 199.5001,-1068.5903\" stroke=\"#000000\"/>\n</g>\n<!-- 140271883713808 -->\n<g class=\"node\" id=\"node58\">\n<title>140271883713808</title>\n<polygon fill=\"none\" points=\"126,-949.5 126,-985.5 266,-985.5 266,-949.5 126,-949.5\" stroke=\"#000000\"/>\n<text fill=\"#000000\" font-family=\"Times,serif\" font-size=\"14.00\" text-anchor=\"middle\" x=\"196\" y=\"-963.8\">conv2d_18: Conv2D</text>\n</g>\n<!-- 140271883713936&#45;&gt;140271883713808 -->\n<g class=\"edge\" id=\"edge57\">\n<title>140271883713936-&gt;140271883713808</title>\n<path d=\"M196,-1022.4551C196,-1014.3828 196,-1004.6764 196,-995.6817\" fill=\"none\" stroke=\"#000000\"/>\n<polygon fill=\"#000000\" points=\"199.5001,-995.5903 196,-985.5904 192.5001,-995.5904 199.5001,-995.5903\" stroke=\"#000000\"/>\n</g>\n<!-- 140271883714128 -->\n<g class=\"node\" id=\"node59\">\n<title>140271883714128</title>\n<polygon fill=\"none\" points=\"57,-876.5 57,-912.5 335,-912.5 335,-876.5 57,-876.5\" stroke=\"#000000\"/>\n<text fill=\"#000000\" font-family=\"Times,serif\" font-size=\"14.00\" text-anchor=\"middle\" x=\"196\" y=\"-890.8\">batch_normalization_18: BatchNormalization</text>\n</g>\n<!-- 140271883713808&#45;&gt;140271883714128 -->\n<g class=\"edge\" id=\"edge58\">\n<title>140271883713808-&gt;140271883714128</title>\n<path d=\"M196,-949.4551C196,-941.3828 196,-931.6764 196,-922.6817\" fill=\"none\" stroke=\"#000000\"/>\n<polygon fill=\"#000000\" points=\"199.5001,-922.5903 196,-912.5904 192.5001,-922.5904 199.5001,-922.5903\" stroke=\"#000000\"/>\n</g>\n<!-- 140271883681744 -->\n<g class=\"node\" id=\"node60\">\n<title>140271883681744</title>\n<polygon fill=\"none\" points=\"103.5,-803.5 103.5,-839.5 288.5,-839.5 288.5,-803.5 103.5,-803.5\" stroke=\"#000000\"/>\n<text fill=\"#000000\" font-family=\"Times,serif\" font-size=\"14.00\" text-anchor=\"middle\" x=\"196\" y=\"-817.8\">leaky_re_lu_18: LeakyReLU</text>\n</g>\n<!-- 140271883714128&#45;&gt;140271883681744 -->\n<g class=\"edge\" id=\"edge59\">\n<title>140271883714128-&gt;140271883681744</title>\n<path d=\"M196,-876.4551C196,-868.3828 196,-858.6764 196,-849.6817\" fill=\"none\" stroke=\"#000000\"/>\n<polygon fill=\"#000000\" points=\"199.5001,-849.5903 196,-839.5904 192.5001,-849.5904 199.5001,-849.5903\" stroke=\"#000000\"/>\n</g>\n<!-- 140271883731088 -->\n<g class=\"node\" id=\"node61\">\n<title>140271883731088</title>\n<polygon fill=\"none\" points=\"126,-730.5 126,-766.5 266,-766.5 266,-730.5 126,-730.5\" stroke=\"#000000\"/>\n<text fill=\"#000000\" font-family=\"Times,serif\" font-size=\"14.00\" text-anchor=\"middle\" x=\"196\" y=\"-744.8\">conv2d_19: Conv2D</text>\n</g>\n<!-- 140271883681744&#45;&gt;140271883731088 -->\n<g class=\"edge\" id=\"edge60\">\n<title>140271883681744-&gt;140271883731088</title>\n<path d=\"M196,-803.4551C196,-795.3828 196,-785.6764 196,-776.6817\" fill=\"none\" stroke=\"#000000\"/>\n<polygon fill=\"#000000\" points=\"199.5001,-776.5903 196,-766.5904 192.5001,-776.5904 199.5001,-776.5903\" stroke=\"#000000\"/>\n</g>\n<!-- 140271883731536 -->\n<g class=\"node\" id=\"node62\">\n<title>140271883731536</title>\n<polygon fill=\"none\" points=\"58,-657.5 58,-693.5 336,-693.5 336,-657.5 58,-657.5\" stroke=\"#000000\"/>\n<text fill=\"#000000\" font-family=\"Times,serif\" font-size=\"14.00\" text-anchor=\"middle\" x=\"197\" y=\"-671.8\">batch_normalization_19: BatchNormalization</text>\n</g>\n<!-- 140271883731088&#45;&gt;140271883731536 -->\n<g class=\"edge\" id=\"edge61\">\n<title>140271883731088-&gt;140271883731536</title>\n<path d=\"M196.2472,-730.4551C196.3578,-722.3828 196.4907,-712.6764 196.6139,-703.6817\" fill=\"none\" stroke=\"#000000\"/>\n<polygon fill=\"#000000\" points=\"200.1148,-703.6374 196.7522,-693.5904 193.1154,-703.5414 200.1148,-703.6374\" stroke=\"#000000\"/>\n</g>\n<!-- 140271883732432 -->\n<g class=\"node\" id=\"node64\">\n<title>140271883732432</title>\n<polygon fill=\"none\" points=\"106.5,-584.5 106.5,-620.5 291.5,-620.5 291.5,-584.5 106.5,-584.5\" stroke=\"#000000\"/>\n<text fill=\"#000000\" font-family=\"Times,serif\" font-size=\"14.00\" text-anchor=\"middle\" x=\"199\" y=\"-598.8\">leaky_re_lu_19: LeakyReLU</text>\n</g>\n<!-- 140271883731536&#45;&gt;140271883732432 -->\n<g class=\"edge\" id=\"edge63\">\n<title>140271883731536-&gt;140271883732432</title>\n<path d=\"M197.4944,-657.4551C197.7155,-649.3828 197.9815,-639.6764 198.2279,-630.6817\" fill=\"none\" stroke=\"#000000\"/>\n<polygon fill=\"#000000\" points=\"201.7291,-630.6825 198.5044,-620.5904 194.7317,-630.4907 201.7291,-630.6825\" stroke=\"#000000\"/>\n</g>\n<!-- 140271883732880 -->\n<g class=\"node\" id=\"node65\">\n<title>140271883732880</title>\n<polygon fill=\"none\" points=\"296,-1752.5 296,-1788.5 574,-1788.5 574,-1752.5 296,-1752.5\" stroke=\"#000000\"/>\n<text fill=\"#000000\" font-family=\"Times,serif\" font-size=\"14.00\" text-anchor=\"middle\" x=\"435\" y=\"-1766.8\">batch_normalization_21: BatchNormalization</text>\n</g>\n<!-- 140271883732304&#45;&gt;140271883732880 -->\n<g class=\"edge\" id=\"edge64\">\n<title>140271883732304-&gt;140271883732880</title>\n<path d=\"M408.6517,-1825.4551C412.6481,-1817.1196 417.4801,-1807.0416 421.909,-1797.8042\" fill=\"none\" stroke=\"#000000\"/>\n<polygon fill=\"#000000\" points=\"425.1592,-1799.1207 426.3265,-1788.5904 418.8472,-1796.0944 425.1592,-1799.1207\" stroke=\"#000000\"/>\n</g>\n<!-- 140271883733264 -->\n<g class=\"node\" id=\"node66\">\n<title>140271883733264</title>\n<polygon fill=\"none\" points=\"132,-511.5 132,-547.5 272,-547.5 272,-511.5 132,-511.5\" stroke=\"#000000\"/>\n<text fill=\"#000000\" font-family=\"Times,serif\" font-size=\"14.00\" text-anchor=\"middle\" x=\"202\" y=\"-525.8\">conv2d_20: Conv2D</text>\n</g>\n<!-- 140271883732432&#45;&gt;140271883733264 -->\n<g class=\"edge\" id=\"edge65\">\n<title>140271883732432-&gt;140271883733264</title>\n<path d=\"M199.7416,-584.4551C200.0733,-576.3828 200.4722,-566.6764 200.8418,-557.6817\" fill=\"none\" stroke=\"#000000\"/>\n<polygon fill=\"#000000\" points=\"204.3429,-557.7257 201.2566,-547.5904 197.3488,-557.4382 204.3429,-557.7257\" stroke=\"#000000\"/>\n</g>\n<!-- 140271883733392 -->\n<g class=\"node\" id=\"node67\">\n<title>140271883733392</title>\n<polygon fill=\"none\" points=\"318.5,-1679.5 318.5,-1715.5 503.5,-1715.5 503.5,-1679.5 318.5,-1679.5\" stroke=\"#000000\"/>\n<text fill=\"#000000\" font-family=\"Times,serif\" font-size=\"14.00\" text-anchor=\"middle\" x=\"411\" y=\"-1693.8\">leaky_re_lu_21: LeakyReLU</text>\n</g>\n<!-- 140271883732880&#45;&gt;140271883733392 -->\n<g class=\"edge\" id=\"edge66\">\n<title>140271883732880-&gt;140271883733392</title>\n<path d=\"M429.0674,-1752.4551C426.3558,-1744.2074 423.0834,-1734.2536 420.0727,-1725.0962\" fill=\"none\" stroke=\"#000000\"/>\n<polygon fill=\"#000000\" points=\"423.3957,-1723.997 416.9475,-1715.5904 416.7459,-1726.1833 423.3957,-1723.997\" stroke=\"#000000\"/>\n</g>\n<!-- 140271883733840 -->\n<g class=\"node\" id=\"node68\">\n<title>140271883733840</title>\n<polygon fill=\"none\" points=\"69,-438.5 69,-474.5 347,-474.5 347,-438.5 69,-438.5\" stroke=\"#000000\"/>\n<text fill=\"#000000\" font-family=\"Times,serif\" font-size=\"14.00\" text-anchor=\"middle\" x=\"208\" y=\"-452.8\">batch_normalization_20: BatchNormalization</text>\n</g>\n<!-- 140271883733264&#45;&gt;140271883733840 -->\n<g class=\"edge\" id=\"edge67\">\n<title>140271883733264-&gt;140271883733840</title>\n<path d=\"M203.4831,-511.4551C204.1466,-503.3828 204.9444,-493.6764 205.6837,-484.6817\" fill=\"none\" stroke=\"#000000\"/>\n<polygon fill=\"#000000\" points=\"209.1821,-484.8435 206.5131,-474.5904 202.2056,-484.27 209.1821,-484.8435\" stroke=\"#000000\"/>\n</g>\n<!-- 140271883714448 -->\n<g class=\"node\" id=\"node69\">\n<title>140271883714448</title>\n<polygon fill=\"none\" points=\"301.5,-1606.5 301.5,-1642.5 484.5,-1642.5 484.5,-1606.5 301.5,-1606.5\" stroke=\"#000000\"/>\n<text fill=\"#000000\" font-family=\"Times,serif\" font-size=\"14.00\" text-anchor=\"middle\" x=\"393\" y=\"-1620.8\">space_to_depth_x2: Lambda</text>\n</g>\n<!-- 140271883733392&#45;&gt;140271883714448 -->\n<g class=\"edge\" id=\"edge68\">\n<title>140271883733392-&gt;140271883714448</title>\n<path d=\"M406.5506,-1679.4551C404.5385,-1671.2951 402.1147,-1661.4652 399.8767,-1652.3887\" fill=\"none\" stroke=\"#000000\"/>\n<polygon fill=\"#000000\" points=\"403.253,-1651.4616 397.4606,-1642.5904 396.4565,-1653.1375 403.253,-1651.4616\" stroke=\"#000000\"/>\n</g>\n<!-- 140271883734288 -->\n<g class=\"node\" id=\"node70\">\n<title>140271883734288</title>\n<polygon fill=\"none\" points=\"143.5,-365.5 143.5,-401.5 328.5,-401.5 328.5,-365.5 143.5,-365.5\" stroke=\"#000000\"/>\n<text fill=\"#000000\" font-family=\"Times,serif\" font-size=\"14.00\" text-anchor=\"middle\" x=\"236\" y=\"-379.8\">leaky_re_lu_20: LeakyReLU</text>\n</g>\n<!-- 140271883733840&#45;&gt;140271883734288 -->\n<g class=\"edge\" id=\"edge69\">\n<title>140271883733840-&gt;140271883734288</title>\n<path d=\"M214.9214,-438.4551C218.0849,-430.2074 221.9027,-420.2536 225.4152,-411.0962\" fill=\"none\" stroke=\"#000000\"/>\n<polygon fill=\"#000000\" points=\"228.7478,-412.1806 229.0612,-401.5904 222.2121,-409.6737 228.7478,-412.1806\" stroke=\"#000000\"/>\n</g>\n<!-- 140271883733712 -->\n<g class=\"node\" id=\"node71\">\n<title>140271883733712</title>\n<polygon fill=\"none\" points=\"208.5,-292.5 208.5,-328.5 383.5,-328.5 383.5,-292.5 208.5,-292.5\" stroke=\"#000000\"/>\n<text fill=\"#000000\" font-family=\"Times,serif\" font-size=\"14.00\" text-anchor=\"middle\" x=\"296\" y=\"-306.8\">concatenate_1: Concatenate</text>\n</g>\n<!-- 140271883714448&#45;&gt;140271883733712 -->\n<g class=\"edge\" id=\"edge70\">\n<title>140271883714448-&gt;140271883733712</title>\n<path d=\"M391.1352,-1606.0845C388.499,-1578.4173 384,-1524.4656 384,-1478.5 384,-1478.5 384,-1478.5 384,-456.5 384,-408.6178 348.852,-362.9438 322.9822,-335.8115\" fill=\"none\" stroke=\"#000000\"/>\n<polygon fill=\"#000000\" points=\"325.4707,-333.3503 315.9686,-328.6641 320.4744,-338.253 325.4707,-333.3503\" stroke=\"#000000\"/>\n</g>\n<!-- 140271883734288&#45;&gt;140271883733712 -->\n<g class=\"edge\" id=\"edge71\">\n<title>140271883734288-&gt;140271883733712</title>\n<path d=\"M250.8315,-365.4551C258.0431,-356.6809 266.8417,-345.9759 274.751,-336.353\" fill=\"none\" stroke=\"#000000\"/>\n<polygon fill=\"#000000\" points=\"277.4854,-338.5382 281.1312,-328.5904 272.0776,-334.0934 277.4854,-338.5382\" stroke=\"#000000\"/>\n</g>\n<!-- 140271883731472 -->\n<g class=\"node\" id=\"node72\">\n<title>140271883731472</title>\n<polygon fill=\"none\" points=\"226,-219.5 226,-255.5 366,-255.5 366,-219.5 226,-219.5\" stroke=\"#000000\"/>\n<text fill=\"#000000\" font-family=\"Times,serif\" font-size=\"14.00\" text-anchor=\"middle\" x=\"296\" y=\"-233.8\">conv2d_22: Conv2D</text>\n</g>\n<!-- 140271883733712&#45;&gt;140271883731472 -->\n<g class=\"edge\" id=\"edge72\">\n<title>140271883733712-&gt;140271883731472</title>\n<path d=\"M296,-292.4551C296,-284.3828 296,-274.6764 296,-265.6817\" fill=\"none\" stroke=\"#000000\"/>\n<polygon fill=\"#000000\" points=\"299.5001,-265.5903 296,-255.5904 292.5001,-265.5904 299.5001,-265.5903\" stroke=\"#000000\"/>\n</g>\n<!-- 140271883734544 -->\n<g class=\"node\" id=\"node73\">\n<title>140271883734544</title>\n<polygon fill=\"none\" points=\"157,-146.5 157,-182.5 435,-182.5 435,-146.5 157,-146.5\" stroke=\"#000000\"/>\n<text fill=\"#000000\" font-family=\"Times,serif\" font-size=\"14.00\" text-anchor=\"middle\" x=\"296\" y=\"-160.8\">batch_normalization_22: BatchNormalization</text>\n</g>\n<!-- 140271883731472&#45;&gt;140271883734544 -->\n<g class=\"edge\" id=\"edge73\">\n<title>140271883731472-&gt;140271883734544</title>\n<path d=\"M296,-219.4551C296,-211.3828 296,-201.6764 296,-192.6817\" fill=\"none\" stroke=\"#000000\"/>\n<polygon fill=\"#000000\" points=\"299.5001,-192.5903 296,-182.5904 292.5001,-192.5904 299.5001,-192.5903\" stroke=\"#000000\"/>\n</g>\n<!-- 140271883597968 -->\n<g class=\"node\" id=\"node74\">\n<title>140271883597968</title>\n<polygon fill=\"none\" points=\"203.5,-73.5 203.5,-109.5 388.5,-109.5 388.5,-73.5 203.5,-73.5\" stroke=\"#000000\"/>\n<text fill=\"#000000\" font-family=\"Times,serif\" font-size=\"14.00\" text-anchor=\"middle\" x=\"296\" y=\"-87.8\">leaky_re_lu_22: LeakyReLU</text>\n</g>\n<!-- 140271883734544&#45;&gt;140271883597968 -->\n<g class=\"edge\" id=\"edge74\">\n<title>140271883734544-&gt;140271883597968</title>\n<path d=\"M296,-146.4551C296,-138.3828 296,-128.6764 296,-119.6817\" fill=\"none\" stroke=\"#000000\"/>\n<polygon fill=\"#000000\" points=\"299.5001,-119.5903 296,-109.5904 292.5001,-119.5904 299.5001,-119.5903\" stroke=\"#000000\"/>\n</g>\n<!-- 140271883231376 -->\n<g class=\"node\" id=\"node75\">\n<title>140271883231376</title>\n<polygon fill=\"none\" points=\"226,-.5 226,-36.5 366,-36.5 366,-.5 226,-.5\" stroke=\"#000000\"/>\n<text fill=\"#000000\" font-family=\"Times,serif\" font-size=\"14.00\" text-anchor=\"middle\" x=\"296\" y=\"-14.8\">conv2d_23: Conv2D</text>\n</g>\n<!-- 140271883597968&#45;&gt;140271883231376 -->\n<g class=\"edge\" id=\"edge75\">\n<title>140271883597968-&gt;140271883231376</title>\n<path d=\"M296,-73.4551C296,-65.3828 296,-55.6764 296,-46.6817\" fill=\"none\" stroke=\"#000000\"/>\n<polygon fill=\"#000000\" points=\"299.5001,-46.5903 296,-36.5904 292.5001,-46.5904 299.5001,-46.5903\" stroke=\"#000000\"/>\n</g>\n</g>\n</svg>"
          },
          "metadata": {
            "tags": []
          },
          "execution_count": 37
        }
      ]
    },
    {
      "cell_type": "code",
      "metadata": {
        "id": "ANgpC35bQFt7"
      },
      "source": [
        "yolo_outputs = yolo_head(yolo_model.output, anchors, len(class_names))"
      ],
      "execution_count": 52,
      "outputs": []
    },
    {
      "cell_type": "code",
      "metadata": {
        "colab": {
          "base_uri": "https://localhost:8080/",
          "height": 476
        },
        "id": "SG2feekaWkyb",
        "outputId": "ec5c6c68-5a2c-4e0b-babd-7b964e39e2f5"
      },
      "source": [
        "scores, boxes, classes = yolo_eval(yolo_outputs, image_shape)"
      ],
      "execution_count": 53,
      "outputs": [
        {
          "output_type": "error",
          "ename": "ValueError",
          "evalue": "ignored",
          "traceback": [
            "\u001b[0;31m---------------------------------------------------------------------------\u001b[0m",
            "\u001b[0;31mInvalidArgumentError\u001b[0m                      Traceback (most recent call last)",
            "\u001b[0;32m/usr/local/lib/python3.7/dist-packages/tensorflow_core/python/framework/ops.py\u001b[0m in \u001b[0;36m_create_c_op\u001b[0;34m(graph, node_def, inputs, control_inputs)\u001b[0m\n\u001b[1;32m   1606\u001b[0m   \u001b[0;32mtry\u001b[0m\u001b[0;34m:\u001b[0m\u001b[0;34m\u001b[0m\u001b[0;34m\u001b[0m\u001b[0m\n\u001b[0;32m-> 1607\u001b[0;31m     \u001b[0mc_op\u001b[0m \u001b[0;34m=\u001b[0m \u001b[0mc_api\u001b[0m\u001b[0;34m.\u001b[0m\u001b[0mTF_FinishOperation\u001b[0m\u001b[0;34m(\u001b[0m\u001b[0mop_desc\u001b[0m\u001b[0;34m)\u001b[0m\u001b[0;34m\u001b[0m\u001b[0;34m\u001b[0m\u001b[0m\n\u001b[0m\u001b[1;32m   1608\u001b[0m   \u001b[0;32mexcept\u001b[0m \u001b[0merrors\u001b[0m\u001b[0;34m.\u001b[0m\u001b[0mInvalidArgumentError\u001b[0m \u001b[0;32mas\u001b[0m \u001b[0me\u001b[0m\u001b[0;34m:\u001b[0m\u001b[0;34m\u001b[0m\u001b[0;34m\u001b[0m\u001b[0m\n",
            "\u001b[0;31mInvalidArgumentError\u001b[0m: Dimensions must be equal, but are 2 and 3 for 'mul_8' (op: 'Mul') with input shapes: [?,?,?,5,2], [?,?,?,5,3].",
            "\nDuring handling of the above exception, another exception occurred:\n",
            "\u001b[0;31mValueError\u001b[0m                                Traceback (most recent call last)",
            "\u001b[0;32m<ipython-input-53-1c93a2e863cf>\u001b[0m in \u001b[0;36m<module>\u001b[0;34m()\u001b[0m\n\u001b[0;32m----> 1\u001b[0;31m \u001b[0mscores\u001b[0m\u001b[0;34m,\u001b[0m \u001b[0mboxes\u001b[0m\u001b[0;34m,\u001b[0m \u001b[0mclasses\u001b[0m \u001b[0;34m=\u001b[0m \u001b[0myolo_eval\u001b[0m\u001b[0;34m(\u001b[0m\u001b[0myolo_outputs\u001b[0m\u001b[0;34m,\u001b[0m \u001b[0mimage_shape\u001b[0m\u001b[0;34m)\u001b[0m\u001b[0;34m\u001b[0m\u001b[0;34m\u001b[0m\u001b[0m\n\u001b[0m",
            "\u001b[0;32m<ipython-input-17-84e113ba260c>\u001b[0m in \u001b[0;36myolo_eval\u001b[0;34m(yolo_outputs, image_shape, max_boxes, score_threshold, iou_threshold)\u001b[0m\n\u001b[1;32m     29\u001b[0m \u001b[0;34m\u001b[0m\u001b[0m\n\u001b[1;32m     30\u001b[0m     \u001b[0;31m# Use one of the functions you've implemented to perform Score-filtering with a threshold of score_threshold (≈1 line)\u001b[0m\u001b[0;34m\u001b[0m\u001b[0;34m\u001b[0m\u001b[0;34m\u001b[0m\u001b[0m\n\u001b[0;32m---> 31\u001b[0;31m     \u001b[0mscores\u001b[0m\u001b[0;34m,\u001b[0m \u001b[0mboxes\u001b[0m\u001b[0;34m,\u001b[0m \u001b[0mclasses\u001b[0m \u001b[0;34m=\u001b[0m \u001b[0myolo_filter_boxes\u001b[0m\u001b[0;34m(\u001b[0m\u001b[0mbox_confidence\u001b[0m\u001b[0;34m,\u001b[0m \u001b[0mboxes\u001b[0m\u001b[0;34m,\u001b[0m \u001b[0mbox_class_probs\u001b[0m\u001b[0;34m,\u001b[0m \u001b[0mscore_threshold\u001b[0m\u001b[0;34m)\u001b[0m\u001b[0;34m\u001b[0m\u001b[0;34m\u001b[0m\u001b[0m\n\u001b[0m\u001b[1;32m     32\u001b[0m \u001b[0;34m\u001b[0m\u001b[0m\n\u001b[1;32m     33\u001b[0m     \u001b[0;31m# Scale boxes back to original image shape.\u001b[0m\u001b[0;34m\u001b[0m\u001b[0;34m\u001b[0m\u001b[0;34m\u001b[0m\u001b[0m\n",
            "\u001b[0;32m<ipython-input-11-6ae579fa2e55>\u001b[0m in \u001b[0;36myolo_filter_boxes\u001b[0;34m(box_confidence, boxes, box_class_probs, threshold)\u001b[0m\n\u001b[1;32m     19\u001b[0m     \u001b[0;31m# Step 1: Compute box scores\u001b[0m\u001b[0;34m\u001b[0m\u001b[0;34m\u001b[0m\u001b[0;34m\u001b[0m\u001b[0m\n\u001b[1;32m     20\u001b[0m     \u001b[0;31m### START CODE HERE ### (≈ 1 line)\u001b[0m\u001b[0;34m\u001b[0m\u001b[0;34m\u001b[0m\u001b[0;34m\u001b[0m\u001b[0m\n\u001b[0;32m---> 21\u001b[0;31m     \u001b[0mbox_scores\u001b[0m \u001b[0;34m=\u001b[0m \u001b[0mbox_confidence\u001b[0m \u001b[0;34m*\u001b[0m \u001b[0mbox_class_probs\u001b[0m\u001b[0;34m\u001b[0m\u001b[0;34m\u001b[0m\u001b[0m\n\u001b[0m\u001b[1;32m     22\u001b[0m     \u001b[0;31m### END CODE HERE ###\u001b[0m\u001b[0;34m\u001b[0m\u001b[0;34m\u001b[0m\u001b[0;34m\u001b[0m\u001b[0m\n\u001b[1;32m     23\u001b[0m \u001b[0;34m\u001b[0m\u001b[0m\n",
            "\u001b[0;32m/usr/local/lib/python3.7/dist-packages/tensorflow_core/python/ops/math_ops.py\u001b[0m in \u001b[0;36mbinary_op_wrapper\u001b[0;34m(x, y)\u001b[0m\n\u001b[1;32m    897\u001b[0m     \u001b[0;32mwith\u001b[0m \u001b[0mops\u001b[0m\u001b[0;34m.\u001b[0m\u001b[0mname_scope\u001b[0m\u001b[0;34m(\u001b[0m\u001b[0;32mNone\u001b[0m\u001b[0;34m,\u001b[0m \u001b[0mop_name\u001b[0m\u001b[0;34m,\u001b[0m \u001b[0;34m[\u001b[0m\u001b[0mx\u001b[0m\u001b[0;34m,\u001b[0m \u001b[0my\u001b[0m\u001b[0;34m]\u001b[0m\u001b[0;34m)\u001b[0m \u001b[0;32mas\u001b[0m \u001b[0mname\u001b[0m\u001b[0;34m:\u001b[0m\u001b[0;34m\u001b[0m\u001b[0;34m\u001b[0m\u001b[0m\n\u001b[1;32m    898\u001b[0m       \u001b[0;32mif\u001b[0m \u001b[0misinstance\u001b[0m\u001b[0;34m(\u001b[0m\u001b[0mx\u001b[0m\u001b[0;34m,\u001b[0m \u001b[0mops\u001b[0m\u001b[0;34m.\u001b[0m\u001b[0mTensor\u001b[0m\u001b[0;34m)\u001b[0m \u001b[0;32mand\u001b[0m \u001b[0misinstance\u001b[0m\u001b[0;34m(\u001b[0m\u001b[0my\u001b[0m\u001b[0;34m,\u001b[0m \u001b[0mops\u001b[0m\u001b[0;34m.\u001b[0m\u001b[0mTensor\u001b[0m\u001b[0;34m)\u001b[0m\u001b[0;34m:\u001b[0m\u001b[0;34m\u001b[0m\u001b[0;34m\u001b[0m\u001b[0m\n\u001b[0;32m--> 899\u001b[0;31m         \u001b[0;32mreturn\u001b[0m \u001b[0mfunc\u001b[0m\u001b[0;34m(\u001b[0m\u001b[0mx\u001b[0m\u001b[0;34m,\u001b[0m \u001b[0my\u001b[0m\u001b[0;34m,\u001b[0m \u001b[0mname\u001b[0m\u001b[0;34m=\u001b[0m\u001b[0mname\u001b[0m\u001b[0;34m)\u001b[0m\u001b[0;34m\u001b[0m\u001b[0;34m\u001b[0m\u001b[0m\n\u001b[0m\u001b[1;32m    900\u001b[0m       \u001b[0;32melif\u001b[0m \u001b[0;32mnot\u001b[0m \u001b[0misinstance\u001b[0m\u001b[0;34m(\u001b[0m\u001b[0my\u001b[0m\u001b[0;34m,\u001b[0m \u001b[0msparse_tensor\u001b[0m\u001b[0;34m.\u001b[0m\u001b[0mSparseTensor\u001b[0m\u001b[0;34m)\u001b[0m\u001b[0;34m:\u001b[0m\u001b[0;34m\u001b[0m\u001b[0;34m\u001b[0m\u001b[0m\n\u001b[1;32m    901\u001b[0m         \u001b[0;32mtry\u001b[0m\u001b[0;34m:\u001b[0m\u001b[0;34m\u001b[0m\u001b[0;34m\u001b[0m\u001b[0m\n",
            "\u001b[0;32m/usr/local/lib/python3.7/dist-packages/tensorflow_core/python/ops/math_ops.py\u001b[0m in \u001b[0;36m_mul_dispatch\u001b[0;34m(x, y, name)\u001b[0m\n\u001b[1;32m   1204\u001b[0m   \u001b[0mis_tensor_y\u001b[0m \u001b[0;34m=\u001b[0m \u001b[0misinstance\u001b[0m\u001b[0;34m(\u001b[0m\u001b[0my\u001b[0m\u001b[0;34m,\u001b[0m \u001b[0mops\u001b[0m\u001b[0;34m.\u001b[0m\u001b[0mTensor\u001b[0m\u001b[0;34m)\u001b[0m\u001b[0;34m\u001b[0m\u001b[0;34m\u001b[0m\u001b[0m\n\u001b[1;32m   1205\u001b[0m   \u001b[0;32mif\u001b[0m \u001b[0mis_tensor_y\u001b[0m\u001b[0;34m:\u001b[0m\u001b[0;34m\u001b[0m\u001b[0;34m\u001b[0m\u001b[0m\n\u001b[0;32m-> 1206\u001b[0;31m     \u001b[0;32mreturn\u001b[0m \u001b[0mgen_math_ops\u001b[0m\u001b[0;34m.\u001b[0m\u001b[0mmul\u001b[0m\u001b[0;34m(\u001b[0m\u001b[0mx\u001b[0m\u001b[0;34m,\u001b[0m \u001b[0my\u001b[0m\u001b[0;34m,\u001b[0m \u001b[0mname\u001b[0m\u001b[0;34m=\u001b[0m\u001b[0mname\u001b[0m\u001b[0;34m)\u001b[0m\u001b[0;34m\u001b[0m\u001b[0;34m\u001b[0m\u001b[0m\n\u001b[0m\u001b[1;32m   1207\u001b[0m   \u001b[0;32melse\u001b[0m\u001b[0;34m:\u001b[0m\u001b[0;34m\u001b[0m\u001b[0;34m\u001b[0m\u001b[0m\n\u001b[1;32m   1208\u001b[0m     \u001b[0;32massert\u001b[0m \u001b[0misinstance\u001b[0m\u001b[0;34m(\u001b[0m\u001b[0my\u001b[0m\u001b[0;34m,\u001b[0m \u001b[0msparse_tensor\u001b[0m\u001b[0;34m.\u001b[0m\u001b[0mSparseTensor\u001b[0m\u001b[0;34m)\u001b[0m  \u001b[0;31m# Case: Dense * Sparse.\u001b[0m\u001b[0;34m\u001b[0m\u001b[0;34m\u001b[0m\u001b[0m\n",
            "\u001b[0;32m/usr/local/lib/python3.7/dist-packages/tensorflow_core/python/ops/gen_math_ops.py\u001b[0m in \u001b[0;36mmul\u001b[0;34m(x, y, name)\u001b[0m\n\u001b[1;32m   6699\u001b[0m   \u001b[0;31m# Add nodes to the TensorFlow graph.\u001b[0m\u001b[0;34m\u001b[0m\u001b[0;34m\u001b[0m\u001b[0;34m\u001b[0m\u001b[0m\n\u001b[1;32m   6700\u001b[0m   _, _, _op = _op_def_lib._apply_op_helper(\n\u001b[0;32m-> 6701\u001b[0;31m         \"Mul\", x=x, y=y, name=name)\n\u001b[0m\u001b[1;32m   6702\u001b[0m   \u001b[0m_result\u001b[0m \u001b[0;34m=\u001b[0m \u001b[0m_op\u001b[0m\u001b[0;34m.\u001b[0m\u001b[0moutputs\u001b[0m\u001b[0;34m[\u001b[0m\u001b[0;34m:\u001b[0m\u001b[0;34m]\u001b[0m\u001b[0;34m\u001b[0m\u001b[0;34m\u001b[0m\u001b[0m\n\u001b[1;32m   6703\u001b[0m   \u001b[0m_inputs_flat\u001b[0m \u001b[0;34m=\u001b[0m \u001b[0m_op\u001b[0m\u001b[0;34m.\u001b[0m\u001b[0minputs\u001b[0m\u001b[0;34m\u001b[0m\u001b[0;34m\u001b[0m\u001b[0m\n",
            "\u001b[0;32m/usr/local/lib/python3.7/dist-packages/tensorflow_core/python/framework/op_def_library.py\u001b[0m in \u001b[0;36m_apply_op_helper\u001b[0;34m(self, op_type_name, name, **keywords)\u001b[0m\n\u001b[1;32m    792\u001b[0m         op = g.create_op(op_type_name, inputs, dtypes=None, name=scope,\n\u001b[1;32m    793\u001b[0m                          \u001b[0minput_types\u001b[0m\u001b[0;34m=\u001b[0m\u001b[0minput_types\u001b[0m\u001b[0;34m,\u001b[0m \u001b[0mattrs\u001b[0m\u001b[0;34m=\u001b[0m\u001b[0mattr_protos\u001b[0m\u001b[0;34m,\u001b[0m\u001b[0;34m\u001b[0m\u001b[0;34m\u001b[0m\u001b[0m\n\u001b[0;32m--> 794\u001b[0;31m                          op_def=op_def)\n\u001b[0m\u001b[1;32m    795\u001b[0m \u001b[0;34m\u001b[0m\u001b[0m\n\u001b[1;32m    796\u001b[0m       \u001b[0;31m# Conditionally invoke tfdbg v2's op callback(s).\u001b[0m\u001b[0;34m\u001b[0m\u001b[0;34m\u001b[0m\u001b[0;34m\u001b[0m\u001b[0m\n",
            "\u001b[0;32m/usr/local/lib/python3.7/dist-packages/tensorflow_core/python/util/deprecation.py\u001b[0m in \u001b[0;36mnew_func\u001b[0;34m(*args, **kwargs)\u001b[0m\n\u001b[1;32m    505\u001b[0m                 \u001b[0;34m'in a future version'\u001b[0m \u001b[0;32mif\u001b[0m \u001b[0mdate\u001b[0m \u001b[0;32mis\u001b[0m \u001b[0;32mNone\u001b[0m \u001b[0;32melse\u001b[0m \u001b[0;34m(\u001b[0m\u001b[0;34m'after %s'\u001b[0m \u001b[0;34m%\u001b[0m \u001b[0mdate\u001b[0m\u001b[0;34m)\u001b[0m\u001b[0;34m,\u001b[0m\u001b[0;34m\u001b[0m\u001b[0;34m\u001b[0m\u001b[0m\n\u001b[1;32m    506\u001b[0m                 instructions)\n\u001b[0;32m--> 507\u001b[0;31m       \u001b[0;32mreturn\u001b[0m \u001b[0mfunc\u001b[0m\u001b[0;34m(\u001b[0m\u001b[0;34m*\u001b[0m\u001b[0margs\u001b[0m\u001b[0;34m,\u001b[0m \u001b[0;34m**\u001b[0m\u001b[0mkwargs\u001b[0m\u001b[0;34m)\u001b[0m\u001b[0;34m\u001b[0m\u001b[0;34m\u001b[0m\u001b[0m\n\u001b[0m\u001b[1;32m    508\u001b[0m \u001b[0;34m\u001b[0m\u001b[0m\n\u001b[1;32m    509\u001b[0m     doc = _add_deprecated_arg_notice_to_docstring(\n",
            "\u001b[0;32m/usr/local/lib/python3.7/dist-packages/tensorflow_core/python/framework/ops.py\u001b[0m in \u001b[0;36mcreate_op\u001b[0;34m(***failed resolving arguments***)\u001b[0m\n\u001b[1;32m   3355\u001b[0m         \u001b[0;32mraise\u001b[0m \u001b[0mTypeError\u001b[0m\u001b[0;34m(\u001b[0m\u001b[0;34m\"Input #%d is not a tensor: %s\"\u001b[0m \u001b[0;34m%\u001b[0m \u001b[0;34m(\u001b[0m\u001b[0midx\u001b[0m\u001b[0;34m,\u001b[0m \u001b[0ma\u001b[0m\u001b[0;34m)\u001b[0m\u001b[0;34m)\u001b[0m\u001b[0;34m\u001b[0m\u001b[0;34m\u001b[0m\u001b[0m\n\u001b[1;32m   3356\u001b[0m     return self._create_op_internal(op_type, inputs, dtypes, input_types, name,\n\u001b[0;32m-> 3357\u001b[0;31m                                     attrs, op_def, compute_device)\n\u001b[0m\u001b[1;32m   3358\u001b[0m \u001b[0;34m\u001b[0m\u001b[0m\n\u001b[1;32m   3359\u001b[0m   def _create_op_internal(\n",
            "\u001b[0;32m/usr/local/lib/python3.7/dist-packages/tensorflow_core/python/framework/ops.py\u001b[0m in \u001b[0;36m_create_op_internal\u001b[0;34m(self, op_type, inputs, dtypes, input_types, name, attrs, op_def, compute_device)\u001b[0m\n\u001b[1;32m   3424\u001b[0m           \u001b[0minput_types\u001b[0m\u001b[0;34m=\u001b[0m\u001b[0minput_types\u001b[0m\u001b[0;34m,\u001b[0m\u001b[0;34m\u001b[0m\u001b[0;34m\u001b[0m\u001b[0m\n\u001b[1;32m   3425\u001b[0m           \u001b[0moriginal_op\u001b[0m\u001b[0;34m=\u001b[0m\u001b[0mself\u001b[0m\u001b[0;34m.\u001b[0m\u001b[0m_default_original_op\u001b[0m\u001b[0;34m,\u001b[0m\u001b[0;34m\u001b[0m\u001b[0;34m\u001b[0m\u001b[0m\n\u001b[0;32m-> 3426\u001b[0;31m           op_def=op_def)\n\u001b[0m\u001b[1;32m   3427\u001b[0m       \u001b[0mself\u001b[0m\u001b[0;34m.\u001b[0m\u001b[0m_create_op_helper\u001b[0m\u001b[0;34m(\u001b[0m\u001b[0mret\u001b[0m\u001b[0;34m,\u001b[0m \u001b[0mcompute_device\u001b[0m\u001b[0;34m=\u001b[0m\u001b[0mcompute_device\u001b[0m\u001b[0;34m)\u001b[0m\u001b[0;34m\u001b[0m\u001b[0;34m\u001b[0m\u001b[0m\n\u001b[1;32m   3428\u001b[0m     \u001b[0;32mreturn\u001b[0m \u001b[0mret\u001b[0m\u001b[0;34m\u001b[0m\u001b[0;34m\u001b[0m\u001b[0m\n",
            "\u001b[0;32m/usr/local/lib/python3.7/dist-packages/tensorflow_core/python/framework/ops.py\u001b[0m in \u001b[0;36m__init__\u001b[0;34m(self, node_def, g, inputs, output_types, control_inputs, input_types, original_op, op_def)\u001b[0m\n\u001b[1;32m   1768\u001b[0m           op_def, inputs, node_def.attr)\n\u001b[1;32m   1769\u001b[0m       self._c_op = _create_c_op(self._graph, node_def, grouped_inputs,\n\u001b[0;32m-> 1770\u001b[0;31m                                 control_input_ops)\n\u001b[0m\u001b[1;32m   1771\u001b[0m     \u001b[0;31m# pylint: enable=protected-access\u001b[0m\u001b[0;34m\u001b[0m\u001b[0;34m\u001b[0m\u001b[0;34m\u001b[0m\u001b[0m\n\u001b[1;32m   1772\u001b[0m \u001b[0;34m\u001b[0m\u001b[0m\n",
            "\u001b[0;32m/usr/local/lib/python3.7/dist-packages/tensorflow_core/python/framework/ops.py\u001b[0m in \u001b[0;36m_create_c_op\u001b[0;34m(graph, node_def, inputs, control_inputs)\u001b[0m\n\u001b[1;32m   1608\u001b[0m   \u001b[0;32mexcept\u001b[0m \u001b[0merrors\u001b[0m\u001b[0;34m.\u001b[0m\u001b[0mInvalidArgumentError\u001b[0m \u001b[0;32mas\u001b[0m \u001b[0me\u001b[0m\u001b[0;34m:\u001b[0m\u001b[0;34m\u001b[0m\u001b[0;34m\u001b[0m\u001b[0m\n\u001b[1;32m   1609\u001b[0m     \u001b[0;31m# Convert to ValueError for backwards compatibility.\u001b[0m\u001b[0;34m\u001b[0m\u001b[0;34m\u001b[0m\u001b[0;34m\u001b[0m\u001b[0m\n\u001b[0;32m-> 1610\u001b[0;31m     \u001b[0;32mraise\u001b[0m \u001b[0mValueError\u001b[0m\u001b[0;34m(\u001b[0m\u001b[0mstr\u001b[0m\u001b[0;34m(\u001b[0m\u001b[0me\u001b[0m\u001b[0;34m)\u001b[0m\u001b[0;34m)\u001b[0m\u001b[0;34m\u001b[0m\u001b[0;34m\u001b[0m\u001b[0m\n\u001b[0m\u001b[1;32m   1611\u001b[0m \u001b[0;34m\u001b[0m\u001b[0m\n\u001b[1;32m   1612\u001b[0m   \u001b[0;32mreturn\u001b[0m \u001b[0mc_op\u001b[0m\u001b[0;34m\u001b[0m\u001b[0;34m\u001b[0m\u001b[0m\n",
            "\u001b[0;31mValueError\u001b[0m: Dimensions must be equal, but are 2 and 3 for 'mul_8' (op: 'Mul') with input shapes: [?,?,?,5,2], [?,?,?,5,3]."
          ]
        }
      ]
    },
    {
      "cell_type": "code",
      "metadata": {
        "id": "9krNcrhRWngO"
      },
      "source": [
        "def predict(sess, image_file):\n",
        "    \"\"\"\n",
        "    Runs the graph stored in \"sess\" to predict boxes for \"image_file\". Prints and plots the predictions.\n",
        "    \n",
        "    Arguments:\n",
        "    sess -- your tensorflow/Keras session containing the YOLO graph\n",
        "    image_file -- name of an image stored in the \"images\" folder.\n",
        "    \n",
        "    Returns:\n",
        "    out_scores -- tensor of shape (None, ), scores of the predicted boxes\n",
        "    out_boxes -- tensor of shape (None, 4), coordinates of the predicted boxes\n",
        "    out_classes -- tensor of shape (None, ), class index of the predicted boxes\n",
        "    \n",
        "    Note: \"None\" actually represents the number of predicted boxes, it varies between 0 and max_boxes. \n",
        "    \"\"\"\n",
        "\n",
        "    # Preprocess your image\n",
        "    image, image_data = preprocess_image(image_file, model_image_size = (608, 608))\n",
        "\n",
        "    # Run the session with the correct tensors and choose the correct placeholders in the feed_dict.\n",
        "    # You'll need to use feed_dict={yolo_model.input: ... , K.learning_phase(): 0})\n",
        "    ### START CODE HERE ### (≈ 1 line)\n",
        "    out_scores, out_boxes, out_classes = sess.run([scores, boxes, classes], feed_dict={yolo_model.input: image_data, K.learning_phase(): 0})\n",
        "    ### END CODE HERE ###\n",
        "\n",
        "    # Print predictions info\n",
        "    print('Found {} boxes for {}'.format(len(out_boxes), image_file))\n",
        "    # Generate colors for drawing bounding boxes.\n",
        "    colors = generate_colors(class_names)\n",
        "    # Draw bounding boxes on the image file\n",
        "    draw_boxes(image, out_scores, out_boxes, out_classes, class_names, colors)\n",
        "    # Save the predicted bounding box on the image\n",
        "    image.save(os.path.join(\"out\", image_file), quality=90)\n",
        "    # Display the results in the notebook\n",
        "    output_image = scipy.misc.imread(os.path.join(\"out\", image_file))\n",
        "    imshow(output_image)\n",
        "    \n",
        "    return out_scores, out_boxes, out_classes"
      ],
      "execution_count": 57,
      "outputs": []
    },
    {
      "cell_type": "code",
      "metadata": {
        "colab": {
          "base_uri": "https://localhost:8080/",
          "height": 323
        },
        "id": "02G6NZV9WwG1",
        "outputId": "d3edfc99-f6ab-45e3-bdf7-f9ab2e200b77"
      },
      "source": [
        "out_scores, out_boxes, out_classes = predict(sess, \"tes.jpg\")"
      ],
      "execution_count": 61,
      "outputs": [
        {
          "output_type": "stream",
          "text": [
            "Found 10 boxes for tes.jpg\n"
          ],
          "name": "stdout"
        },
        {
          "output_type": "error",
          "ename": "OSError",
          "evalue": "ignored",
          "traceback": [
            "\u001b[0;31m---------------------------------------------------------------------------\u001b[0m",
            "\u001b[0;31mOSError\u001b[0m                                   Traceback (most recent call last)",
            "\u001b[0;32m<ipython-input-61-1a696bb58565>\u001b[0m in \u001b[0;36m<module>\u001b[0;34m()\u001b[0m\n\u001b[0;32m----> 1\u001b[0;31m \u001b[0mout_scores\u001b[0m\u001b[0;34m,\u001b[0m \u001b[0mout_boxes\u001b[0m\u001b[0;34m,\u001b[0m \u001b[0mout_classes\u001b[0m \u001b[0;34m=\u001b[0m \u001b[0mpredict\u001b[0m\u001b[0;34m(\u001b[0m\u001b[0msess\u001b[0m\u001b[0;34m,\u001b[0m \u001b[0;34m\"tes.jpg\"\u001b[0m\u001b[0;34m)\u001b[0m\u001b[0;34m\u001b[0m\u001b[0;34m\u001b[0m\u001b[0m\n\u001b[0m",
            "\u001b[0;32m<ipython-input-57-8fa42430e766>\u001b[0m in \u001b[0;36mpredict\u001b[0;34m(sess, image_file)\u001b[0m\n\u001b[1;32m     29\u001b[0m     \u001b[0mcolors\u001b[0m \u001b[0;34m=\u001b[0m \u001b[0mgenerate_colors\u001b[0m\u001b[0;34m(\u001b[0m\u001b[0mclass_names\u001b[0m\u001b[0;34m)\u001b[0m\u001b[0;34m\u001b[0m\u001b[0;34m\u001b[0m\u001b[0m\n\u001b[1;32m     30\u001b[0m     \u001b[0;31m# Draw bounding boxes on the image file\u001b[0m\u001b[0;34m\u001b[0m\u001b[0;34m\u001b[0m\u001b[0;34m\u001b[0m\u001b[0m\n\u001b[0;32m---> 31\u001b[0;31m     \u001b[0mdraw_boxes\u001b[0m\u001b[0;34m(\u001b[0m\u001b[0mimage\u001b[0m\u001b[0;34m,\u001b[0m \u001b[0mout_scores\u001b[0m\u001b[0;34m,\u001b[0m \u001b[0mout_boxes\u001b[0m\u001b[0;34m,\u001b[0m \u001b[0mout_classes\u001b[0m\u001b[0;34m,\u001b[0m \u001b[0mclass_names\u001b[0m\u001b[0;34m,\u001b[0m \u001b[0mcolors\u001b[0m\u001b[0;34m)\u001b[0m\u001b[0;34m\u001b[0m\u001b[0;34m\u001b[0m\u001b[0m\n\u001b[0m\u001b[1;32m     32\u001b[0m     \u001b[0;31m# Save the predicted bounding box on the image\u001b[0m\u001b[0;34m\u001b[0m\u001b[0;34m\u001b[0m\u001b[0;34m\u001b[0m\u001b[0m\n\u001b[1;32m     33\u001b[0m     \u001b[0mimage\u001b[0m\u001b[0;34m.\u001b[0m\u001b[0msave\u001b[0m\u001b[0;34m(\u001b[0m\u001b[0mos\u001b[0m\u001b[0;34m.\u001b[0m\u001b[0mpath\u001b[0m\u001b[0;34m.\u001b[0m\u001b[0mjoin\u001b[0m\u001b[0;34m(\u001b[0m\u001b[0;34m\"out\"\u001b[0m\u001b[0;34m,\u001b[0m \u001b[0mimage_file\u001b[0m\u001b[0;34m)\u001b[0m\u001b[0;34m,\u001b[0m \u001b[0mquality\u001b[0m\u001b[0;34m=\u001b[0m\u001b[0;36m90\u001b[0m\u001b[0;34m)\u001b[0m\u001b[0;34m\u001b[0m\u001b[0;34m\u001b[0m\u001b[0m\n",
            "\u001b[0;32m<ipython-input-6-836dee87699c>\u001b[0m in \u001b[0;36mdraw_boxes\u001b[0;34m(image, out_scores, out_boxes, out_classes, class_names, colors)\u001b[0m\n\u001b[1;32m     50\u001b[0m \u001b[0;32mdef\u001b[0m \u001b[0mdraw_boxes\u001b[0m\u001b[0;34m(\u001b[0m\u001b[0mimage\u001b[0m\u001b[0;34m,\u001b[0m \u001b[0mout_scores\u001b[0m\u001b[0;34m,\u001b[0m \u001b[0mout_boxes\u001b[0m\u001b[0;34m,\u001b[0m \u001b[0mout_classes\u001b[0m\u001b[0;34m,\u001b[0m \u001b[0mclass_names\u001b[0m\u001b[0;34m,\u001b[0m \u001b[0mcolors\u001b[0m\u001b[0;34m)\u001b[0m\u001b[0;34m:\u001b[0m\u001b[0;34m\u001b[0m\u001b[0;34m\u001b[0m\u001b[0m\n\u001b[1;32m     51\u001b[0m \u001b[0;34m\u001b[0m\u001b[0m\n\u001b[0;32m---> 52\u001b[0;31m     \u001b[0mfont\u001b[0m \u001b[0;34m=\u001b[0m \u001b[0mImageFont\u001b[0m\u001b[0;34m.\u001b[0m\u001b[0mtruetype\u001b[0m\u001b[0;34m(\u001b[0m\u001b[0mfont\u001b[0m\u001b[0;34m=\u001b[0m\u001b[0;34m'font/FiraMono-Medium.otf'\u001b[0m\u001b[0;34m,\u001b[0m\u001b[0msize\u001b[0m\u001b[0;34m=\u001b[0m\u001b[0mnp\u001b[0m\u001b[0;34m.\u001b[0m\u001b[0mfloor\u001b[0m\u001b[0;34m(\u001b[0m\u001b[0;36m3e-2\u001b[0m \u001b[0;34m*\u001b[0m \u001b[0mimage\u001b[0m\u001b[0;34m.\u001b[0m\u001b[0msize\u001b[0m\u001b[0;34m[\u001b[0m\u001b[0;36m1\u001b[0m\u001b[0;34m]\u001b[0m \u001b[0;34m+\u001b[0m \u001b[0;36m0.5\u001b[0m\u001b[0;34m)\u001b[0m\u001b[0;34m.\u001b[0m\u001b[0mastype\u001b[0m\u001b[0;34m(\u001b[0m\u001b[0;34m'int32'\u001b[0m\u001b[0;34m)\u001b[0m\u001b[0;34m)\u001b[0m\u001b[0;34m\u001b[0m\u001b[0;34m\u001b[0m\u001b[0m\n\u001b[0m\u001b[1;32m     53\u001b[0m     \u001b[0mthickness\u001b[0m \u001b[0;34m=\u001b[0m \u001b[0;34m(\u001b[0m\u001b[0mimage\u001b[0m\u001b[0;34m.\u001b[0m\u001b[0msize\u001b[0m\u001b[0;34m[\u001b[0m\u001b[0;36m0\u001b[0m\u001b[0;34m]\u001b[0m \u001b[0;34m+\u001b[0m \u001b[0mimage\u001b[0m\u001b[0;34m.\u001b[0m\u001b[0msize\u001b[0m\u001b[0;34m[\u001b[0m\u001b[0;36m1\u001b[0m\u001b[0;34m]\u001b[0m\u001b[0;34m)\u001b[0m \u001b[0;34m//\u001b[0m \u001b[0;36m300\u001b[0m\u001b[0;34m\u001b[0m\u001b[0;34m\u001b[0m\u001b[0m\n\u001b[1;32m     54\u001b[0m \u001b[0;34m\u001b[0m\u001b[0m\n",
            "\u001b[0;32m/usr/local/lib/python3.7/dist-packages/PIL/ImageFont.py\u001b[0m in \u001b[0;36mtruetype\u001b[0;34m(font, size, index, encoding, layout_engine)\u001b[0m\n\u001b[1;32m    646\u001b[0m \u001b[0;34m\u001b[0m\u001b[0m\n\u001b[1;32m    647\u001b[0m     \u001b[0;32mtry\u001b[0m\u001b[0;34m:\u001b[0m\u001b[0;34m\u001b[0m\u001b[0;34m\u001b[0m\u001b[0m\n\u001b[0;32m--> 648\u001b[0;31m         \u001b[0;32mreturn\u001b[0m \u001b[0mfreetype\u001b[0m\u001b[0;34m(\u001b[0m\u001b[0mfont\u001b[0m\u001b[0;34m)\u001b[0m\u001b[0;34m\u001b[0m\u001b[0;34m\u001b[0m\u001b[0m\n\u001b[0m\u001b[1;32m    649\u001b[0m     \u001b[0;32mexcept\u001b[0m \u001b[0mOSError\u001b[0m\u001b[0;34m:\u001b[0m\u001b[0;34m\u001b[0m\u001b[0;34m\u001b[0m\u001b[0m\n\u001b[1;32m    650\u001b[0m         \u001b[0;32mif\u001b[0m \u001b[0;32mnot\u001b[0m \u001b[0misPath\u001b[0m\u001b[0;34m(\u001b[0m\u001b[0mfont\u001b[0m\u001b[0;34m)\u001b[0m\u001b[0;34m:\u001b[0m\u001b[0;34m\u001b[0m\u001b[0;34m\u001b[0m\u001b[0m\n",
            "\u001b[0;32m/usr/local/lib/python3.7/dist-packages/PIL/ImageFont.py\u001b[0m in \u001b[0;36mfreetype\u001b[0;34m(font)\u001b[0m\n\u001b[1;32m    643\u001b[0m \u001b[0;34m\u001b[0m\u001b[0m\n\u001b[1;32m    644\u001b[0m     \u001b[0;32mdef\u001b[0m \u001b[0mfreetype\u001b[0m\u001b[0;34m(\u001b[0m\u001b[0mfont\u001b[0m\u001b[0;34m)\u001b[0m\u001b[0;34m:\u001b[0m\u001b[0;34m\u001b[0m\u001b[0;34m\u001b[0m\u001b[0m\n\u001b[0;32m--> 645\u001b[0;31m         \u001b[0;32mreturn\u001b[0m \u001b[0mFreeTypeFont\u001b[0m\u001b[0;34m(\u001b[0m\u001b[0mfont\u001b[0m\u001b[0;34m,\u001b[0m \u001b[0msize\u001b[0m\u001b[0;34m,\u001b[0m \u001b[0mindex\u001b[0m\u001b[0;34m,\u001b[0m \u001b[0mencoding\u001b[0m\u001b[0;34m,\u001b[0m \u001b[0mlayout_engine\u001b[0m\u001b[0;34m)\u001b[0m\u001b[0;34m\u001b[0m\u001b[0;34m\u001b[0m\u001b[0m\n\u001b[0m\u001b[1;32m    646\u001b[0m \u001b[0;34m\u001b[0m\u001b[0m\n\u001b[1;32m    647\u001b[0m     \u001b[0;32mtry\u001b[0m\u001b[0;34m:\u001b[0m\u001b[0;34m\u001b[0m\u001b[0;34m\u001b[0m\u001b[0m\n",
            "\u001b[0;32m/usr/local/lib/python3.7/dist-packages/PIL/ImageFont.py\u001b[0m in \u001b[0;36m__init__\u001b[0;34m(self, font, size, index, encoding, layout_engine)\u001b[0m\n\u001b[1;32m    192\u001b[0m                     \u001b[0;32mreturn\u001b[0m\u001b[0;34m\u001b[0m\u001b[0;34m\u001b[0m\u001b[0m\n\u001b[1;32m    193\u001b[0m             self.font = core.getfont(\n\u001b[0;32m--> 194\u001b[0;31m                 \u001b[0mfont\u001b[0m\u001b[0;34m,\u001b[0m \u001b[0msize\u001b[0m\u001b[0;34m,\u001b[0m \u001b[0mindex\u001b[0m\u001b[0;34m,\u001b[0m \u001b[0mencoding\u001b[0m\u001b[0;34m,\u001b[0m \u001b[0mlayout_engine\u001b[0m\u001b[0;34m=\u001b[0m\u001b[0mlayout_engine\u001b[0m\u001b[0;34m\u001b[0m\u001b[0;34m\u001b[0m\u001b[0m\n\u001b[0m\u001b[1;32m    195\u001b[0m             )\n\u001b[1;32m    196\u001b[0m         \u001b[0;32melse\u001b[0m\u001b[0;34m:\u001b[0m\u001b[0;34m\u001b[0m\u001b[0;34m\u001b[0m\u001b[0m\n",
            "\u001b[0;31mOSError\u001b[0m: cannot open resource"
          ]
        }
      ]
    },
    {
      "cell_type": "code",
      "metadata": {
        "id": "O3zjo8uBQNtN"
      },
      "source": [
        "yolo_model.save('/content/YOLOmodel.h5')"
      ],
      "execution_count": 44,
      "outputs": []
    },
    {
      "cell_type": "code",
      "metadata": {
        "id": "wXrkyqP5TaW2"
      },
      "source": [
        "import sys\n",
        "orig_stdout = sys.stdout\n",
        "f = open('out.txt', 'w')\n",
        "sys.stdout = f\n",
        "print(yolo_model.summary())\n",
        "sys.stdout = orig_stdout\n",
        "f.close()"
      ],
      "execution_count": 51,
      "outputs": []
    }
  ]
}